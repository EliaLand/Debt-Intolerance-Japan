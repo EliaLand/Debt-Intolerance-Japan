{
 "cells": [
  {
   "cell_type": "markdown",
   "metadata": {},
   "source": [
    "# **Debt Intolerance Threshold Simulation-Japan**"
   ]
  },
  {
   "cell_type": "markdown",
   "metadata": {},
   "source": [
    "Based on Reinhart C., Rogoff K. & Savastano M., 2003, *Debt Intolerance*, National Bureau of Economic Research, Working Paper Series, August 2003, USA"
   ]
  },
  {
   "cell_type": "markdown",
   "metadata": {},
   "source": [
    "### **Introduction**"
   ]
  },
  {
   "cell_type": "markdown",
   "metadata": {},
   "source": [
    "The following simulation aims to assess whether and under which intensity history matters in forecasting Japan's ability to sustain, from moderate to high, levels of external indebtedness. When we refer to history, we mean a country's records at meeting its debt obligations and managing its macroeconomy, which result to be highly dependent from consolidated fiscal structures and financial systems seldom varying across years. We also define a \"safe\" debt threshold as the marginal forecasted value of S&P credit ranking under which the tested country is downgraded to a lower cluster within its macrogroup (Club A, Club B & Club C, according to Reinhart, 2003). From these assumptions, we develop an empirical model that includes a very few number of variables attempting to represent in the best way the impact of the three major forces shaping debt sustainability dynamics: repayment history, indebtness level and history of macroeconomic stability. It is worth to mention that the presented empirical approach includes also a new proxy capturing the effect of political stability and, hence, an assumed higher farshightedness in macroeconomic and budgetting policy planning in the Japanese political framework. More room within the model is also dedicated to the impact of inflation dydanimcs from a comparative prespective, with respect to the existing literature."
   ]
  },
  {
   "cell_type": "markdown",
   "metadata": {},
   "source": [
    "### **Preliminary steps**"
   ]
  },
  {
   "cell_type": "code",
   "execution_count": 1,
   "metadata": {},
   "outputs": [
    {
     "name": "stdout",
     "output_type": "stream",
     "text": [
      "Requirement already satisfied: pandas in c:\\users\\eland\\miniconda3\\envs\\x\\lib\\site-packages (1.5.3)\n",
      "Requirement already satisfied: python-dateutil>=2.8.1 in c:\\users\\eland\\miniconda3\\envs\\x\\lib\\site-packages (from pandas) (2.8.2)\n",
      "Requirement already satisfied: pytz>=2020.1 in c:\\users\\eland\\miniconda3\\envs\\x\\lib\\site-packages (from pandas) (2023.3.post1)\n",
      "Requirement already satisfied: numpy>=1.20.3 in c:\\users\\eland\\miniconda3\\envs\\x\\lib\\site-packages (from pandas) (1.24.3)\n",
      "Requirement already satisfied: six>=1.5 in c:\\users\\eland\\miniconda3\\envs\\x\\lib\\site-packages (from python-dateutil>=2.8.1->pandas) (1.16.0)\n",
      "Requirement already satisfied: matplotlib in c:\\users\\eland\\miniconda3\\envs\\x\\lib\\site-packages (3.7.5)\n",
      "Requirement already satisfied: contourpy>=1.0.1 in c:\\users\\eland\\miniconda3\\envs\\x\\lib\\site-packages (from matplotlib) (1.1.1)\n",
      "Requirement already satisfied: cycler>=0.10 in c:\\users\\eland\\miniconda3\\envs\\x\\lib\\site-packages (from matplotlib) (0.12.1)\n",
      "Requirement already satisfied: fonttools>=4.22.0 in c:\\users\\eland\\miniconda3\\envs\\x\\lib\\site-packages (from matplotlib) (4.49.0)\n",
      "Requirement already satisfied: kiwisolver>=1.0.1 in c:\\users\\eland\\miniconda3\\envs\\x\\lib\\site-packages (from matplotlib) (1.4.5)\n",
      "Requirement already satisfied: numpy<2,>=1.20 in c:\\users\\eland\\miniconda3\\envs\\x\\lib\\site-packages (from matplotlib) (1.24.3)\n",
      "Requirement already satisfied: packaging>=20.0 in c:\\users\\eland\\miniconda3\\envs\\x\\lib\\site-packages (from matplotlib) (23.1)\n",
      "Requirement already satisfied: pillow>=6.2.0 in c:\\users\\eland\\miniconda3\\envs\\x\\lib\\site-packages (from matplotlib) (10.2.0)\n",
      "Requirement already satisfied: pyparsing>=2.3.1 in c:\\users\\eland\\miniconda3\\envs\\x\\lib\\site-packages (from matplotlib) (3.1.2)\n",
      "Requirement already satisfied: python-dateutil>=2.7 in c:\\users\\eland\\miniconda3\\envs\\x\\lib\\site-packages (from matplotlib) (2.8.2)\n",
      "Requirement already satisfied: importlib-resources>=3.2.0 in c:\\users\\eland\\miniconda3\\envs\\x\\lib\\site-packages (from matplotlib) (6.1.1)\n",
      "Requirement already satisfied: zipp>=3.1.0 in c:\\users\\eland\\miniconda3\\envs\\x\\lib\\site-packages (from importlib-resources>=3.2.0->matplotlib) (3.11.0)\n",
      "Requirement already satisfied: six>=1.5 in c:\\users\\eland\\miniconda3\\envs\\x\\lib\\site-packages (from python-dateutil>=2.7->matplotlib) (1.16.0)\n",
      "Requirement already satisfied: requests-html in c:\\users\\eland\\miniconda3\\envs\\x\\lib\\site-packages (0.10.0)\n",
      "Requirement already satisfied: requests in c:\\users\\eland\\miniconda3\\envs\\x\\lib\\site-packages (from requests-html) (2.31.0)\n",
      "Requirement already satisfied: pyquery in c:\\users\\eland\\miniconda3\\envs\\x\\lib\\site-packages (from requests-html) (2.0.0)\n",
      "Requirement already satisfied: fake-useragent in c:\\users\\eland\\miniconda3\\envs\\x\\lib\\site-packages (from requests-html) (1.4.0)\n",
      "Requirement already satisfied: parse in c:\\users\\eland\\miniconda3\\envs\\x\\lib\\site-packages (from requests-html) (1.20.1)\n",
      "Requirement already satisfied: bs4 in c:\\users\\eland\\miniconda3\\envs\\x\\lib\\site-packages (from requests-html) (0.0.2)\n",
      "Requirement already satisfied: w3lib in c:\\users\\eland\\miniconda3\\envs\\x\\lib\\site-packages (from requests-html) (2.1.2)\n",
      "Requirement already satisfied: pyppeteer>=0.0.14 in c:\\users\\eland\\miniconda3\\envs\\x\\lib\\site-packages (from requests-html) (2.0.0)\n",
      "Requirement already satisfied: appdirs<2.0.0,>=1.4.3 in c:\\users\\eland\\miniconda3\\envs\\x\\lib\\site-packages (from pyppeteer>=0.0.14->requests-html) (1.4.4)\n",
      "Requirement already satisfied: certifi>=2023 in c:\\users\\eland\\miniconda3\\envs\\x\\lib\\site-packages (from pyppeteer>=0.0.14->requests-html) (2023.11.17)\n",
      "Requirement already satisfied: importlib-metadata>=1.4 in c:\\users\\eland\\miniconda3\\envs\\x\\lib\\site-packages (from pyppeteer>=0.0.14->requests-html) (6.0.0)\n",
      "Requirement already satisfied: pyee<12.0.0,>=11.0.0 in c:\\users\\eland\\miniconda3\\envs\\x\\lib\\site-packages (from pyppeteer>=0.0.14->requests-html) (11.1.0)\n",
      "Requirement already satisfied: tqdm<5.0.0,>=4.42.1 in c:\\users\\eland\\miniconda3\\envs\\x\\lib\\site-packages (from pyppeteer>=0.0.14->requests-html) (4.66.2)\n",
      "Requirement already satisfied: urllib3<2.0.0,>=1.25.8 in c:\\users\\eland\\miniconda3\\envs\\x\\lib\\site-packages (from pyppeteer>=0.0.14->requests-html) (1.26.18)\n",
      "Requirement already satisfied: websockets<11.0,>=10.0 in c:\\users\\eland\\miniconda3\\envs\\x\\lib\\site-packages (from pyppeteer>=0.0.14->requests-html) (10.4)\n",
      "Requirement already satisfied: beautifulsoup4 in c:\\users\\eland\\miniconda3\\envs\\x\\lib\\site-packages (from bs4->requests-html) (4.12.2)\n",
      "Requirement already satisfied: importlib-resources>=5.0 in c:\\users\\eland\\miniconda3\\envs\\x\\lib\\site-packages (from fake-useragent->requests-html) (6.1.1)\n",
      "Requirement already satisfied: lxml>=2.1 in c:\\users\\eland\\miniconda3\\envs\\x\\lib\\site-packages (from pyquery->requests-html) (4.9.4)\n",
      "Requirement already satisfied: cssselect>=1.2.0 in c:\\users\\eland\\miniconda3\\envs\\x\\lib\\site-packages (from pyquery->requests-html) (1.2.0)\n",
      "Requirement already satisfied: charset-normalizer<4,>=2 in c:\\users\\eland\\miniconda3\\envs\\x\\lib\\site-packages (from requests->requests-html) (2.0.4)\n",
      "Requirement already satisfied: idna<4,>=2.5 in c:\\users\\eland\\miniconda3\\envs\\x\\lib\\site-packages (from requests->requests-html) (2.10)\n",
      "Requirement already satisfied: zipp>=0.5 in c:\\users\\eland\\miniconda3\\envs\\x\\lib\\site-packages (from importlib-metadata>=1.4->pyppeteer>=0.0.14->requests-html) (3.11.0)\n",
      "Requirement already satisfied: typing-extensions in c:\\users\\eland\\miniconda3\\envs\\x\\lib\\site-packages (from pyee<12.0.0,>=11.0.0->pyppeteer>=0.0.14->requests-html) (4.7.1)\n",
      "Requirement already satisfied: colorama in c:\\users\\eland\\miniconda3\\envs\\x\\lib\\site-packages (from tqdm<5.0.0,>=4.42.1->pyppeteer>=0.0.14->requests-html) (0.4.6)\n",
      "Requirement already satisfied: soupsieve>1.2 in c:\\users\\eland\\miniconda3\\envs\\x\\lib\\site-packages (from beautifulsoup4->bs4->requests-html) (2.5)\n",
      "Requirement already satisfied: numpy in c:\\users\\eland\\miniconda3\\envs\\x\\lib\\site-packages (1.24.3)\n",
      "Requirement already satisfied: statsmodels in c:\\users\\eland\\miniconda3\\envs\\x\\lib\\site-packages (0.14.1)\n",
      "Requirement already satisfied: numpy<2,>=1.18 in c:\\users\\eland\\miniconda3\\envs\\x\\lib\\site-packages (from statsmodels) (1.24.3)\n",
      "Requirement already satisfied: scipy!=1.9.2,>=1.4 in c:\\users\\eland\\miniconda3\\envs\\x\\lib\\site-packages (from statsmodels) (1.10.1)\n",
      "Requirement already satisfied: pandas!=2.1.0,>=1.0 in c:\\users\\eland\\miniconda3\\envs\\x\\lib\\site-packages (from statsmodels) (1.5.3)\n",
      "Requirement already satisfied: patsy>=0.5.4 in c:\\users\\eland\\miniconda3\\envs\\x\\lib\\site-packages (from statsmodels) (0.5.4)\n",
      "Requirement already satisfied: packaging>=21.3 in c:\\users\\eland\\miniconda3\\envs\\x\\lib\\site-packages (from statsmodels) (23.1)\n",
      "Requirement already satisfied: python-dateutil>=2.8.1 in c:\\users\\eland\\miniconda3\\envs\\x\\lib\\site-packages (from pandas!=2.1.0,>=1.0->statsmodels) (2.8.2)\n",
      "Requirement already satisfied: pytz>=2020.1 in c:\\users\\eland\\miniconda3\\envs\\x\\lib\\site-packages (from pandas!=2.1.0,>=1.0->statsmodels) (2023.3.post1)\n",
      "Requirement already satisfied: six in c:\\users\\eland\\miniconda3\\envs\\x\\lib\\site-packages (from patsy>=0.5.4->statsmodels) (1.16.0)\n",
      "Requirement already satisfied: scipy in c:\\users\\eland\\miniconda3\\envs\\x\\lib\\site-packages (1.10.1)\n",
      "Requirement already satisfied: numpy<1.27.0,>=1.19.5 in c:\\users\\eland\\miniconda3\\envs\\x\\lib\\site-packages (from scipy) (1.24.3)\n",
      "Requirement already satisfied: linearmodels in c:\\users\\eland\\miniconda3\\envs\\x\\lib\\site-packages (4.31)\n",
      "Requirement already satisfied: numpy>=1.16 in c:\\users\\eland\\miniconda3\\envs\\x\\lib\\site-packages (from linearmodels) (1.24.3)\n",
      "Requirement already satisfied: pandas>=0.24 in c:\\users\\eland\\miniconda3\\envs\\x\\lib\\site-packages (from linearmodels) (1.5.3)\n",
      "Requirement already satisfied: scipy>=1.2 in c:\\users\\eland\\miniconda3\\envs\\x\\lib\\site-packages (from linearmodels) (1.10.1)\n",
      "Requirement already satisfied: statsmodels>=0.11 in c:\\users\\eland\\miniconda3\\envs\\x\\lib\\site-packages (from linearmodels) (0.14.1)\n",
      "Requirement already satisfied: property-cached>=1.6.3 in c:\\users\\eland\\miniconda3\\envs\\x\\lib\\site-packages (from linearmodels) (1.6.4)\n",
      "Requirement already satisfied: mypy-extensions>=0.4 in c:\\users\\eland\\miniconda3\\envs\\x\\lib\\site-packages (from linearmodels) (1.0.0)\n",
      "Requirement already satisfied: Cython>=0.29.21 in c:\\users\\eland\\miniconda3\\envs\\x\\lib\\site-packages (from linearmodels) (3.0.10)\n",
      "Requirement already satisfied: pyhdfe>=0.1 in c:\\users\\eland\\miniconda3\\envs\\x\\lib\\site-packages (from linearmodels) (0.2.0)\n",
      "Requirement already satisfied: formulaic>=0.3.2 in c:\\users\\eland\\miniconda3\\envs\\x\\lib\\site-packages (from linearmodels) (1.0.1)\n",
      "Requirement already satisfied: setuptools-scm>=7.0.0 in c:\\users\\eland\\miniconda3\\envs\\x\\lib\\site-packages (from setuptools-scm[toml]>=7.0.0->linearmodels) (8.0.4)\n",
      "Requirement already satisfied: astor>=0.8 in c:\\users\\eland\\miniconda3\\envs\\x\\lib\\site-packages (from formulaic>=0.3.2->linearmodels) (0.8.1)\n",
      "Requirement already satisfied: graphlib-backport>=1.0.0 in c:\\users\\eland\\miniconda3\\envs\\x\\lib\\site-packages (from formulaic>=0.3.2->linearmodels) (1.1.0)\n",
      "Requirement already satisfied: interface-meta>=1.2.0 in c:\\users\\eland\\miniconda3\\envs\\x\\lib\\site-packages (from formulaic>=0.3.2->linearmodels) (1.3.0)\n",
      "Requirement already satisfied: typing-extensions>=4.2.0 in c:\\users\\eland\\miniconda3\\envs\\x\\lib\\site-packages (from formulaic>=0.3.2->linearmodels) (4.7.1)\n",
      "Requirement already satisfied: wrapt>=1.0 in c:\\users\\eland\\miniconda3\\envs\\x\\lib\\site-packages (from formulaic>=0.3.2->linearmodels) (1.16.0)\n",
      "Requirement already satisfied: python-dateutil>=2.8.1 in c:\\users\\eland\\miniconda3\\envs\\x\\lib\\site-packages (from pandas>=0.24->linearmodels) (2.8.2)\n",
      "Requirement already satisfied: pytz>=2020.1 in c:\\users\\eland\\miniconda3\\envs\\x\\lib\\site-packages (from pandas>=0.24->linearmodels) (2023.3.post1)\n",
      "Requirement already satisfied: packaging>=20 in c:\\users\\eland\\miniconda3\\envs\\x\\lib\\site-packages (from setuptools-scm>=7.0.0->setuptools-scm[toml]>=7.0.0->linearmodels) (23.1)\n",
      "Requirement already satisfied: setuptools in c:\\users\\eland\\miniconda3\\envs\\x\\lib\\site-packages (from setuptools-scm>=7.0.0->setuptools-scm[toml]>=7.0.0->linearmodels) (68.2.2)\n",
      "Requirement already satisfied: tomli>=1 in c:\\users\\eland\\miniconda3\\envs\\x\\lib\\site-packages (from setuptools-scm>=7.0.0->setuptools-scm[toml]>=7.0.0->linearmodels) (2.0.1)\n",
      "Requirement already satisfied: patsy>=0.5.4 in c:\\users\\eland\\miniconda3\\envs\\x\\lib\\site-packages (from statsmodels>=0.11->linearmodels) (0.5.4)\n",
      "Requirement already satisfied: six in c:\\users\\eland\\miniconda3\\envs\\x\\lib\\site-packages (from patsy>=0.5.4->statsmodels>=0.11->linearmodels) (1.16.0)\n",
      "Requirement already satisfied: jpstat in c:\\users\\eland\\miniconda3\\envs\\x\\lib\\site-packages (0.0.5)\n",
      "Requirement already satisfied: pandas<2.0,>=1.0 in c:\\users\\eland\\miniconda3\\envs\\x\\lib\\site-packages (from jpstat) (1.5.3)\n",
      "Requirement already satisfied: requests<3.0,>=2.0 in c:\\users\\eland\\miniconda3\\envs\\x\\lib\\site-packages (from jpstat) (2.31.0)\n",
      "Requirement already satisfied: requests_html<0.11.0,>=0.10.0 in c:\\users\\eland\\miniconda3\\envs\\x\\lib\\site-packages (from jpstat) (0.10.0)\n",
      "Requirement already satisfied: python-dateutil>=2.8.1 in c:\\users\\eland\\miniconda3\\envs\\x\\lib\\site-packages (from pandas<2.0,>=1.0->jpstat) (2.8.2)\n",
      "Requirement already satisfied: pytz>=2020.1 in c:\\users\\eland\\miniconda3\\envs\\x\\lib\\site-packages (from pandas<2.0,>=1.0->jpstat) (2023.3.post1)\n",
      "Requirement already satisfied: numpy>=1.20.3 in c:\\users\\eland\\miniconda3\\envs\\x\\lib\\site-packages (from pandas<2.0,>=1.0->jpstat) (1.24.3)\n",
      "Requirement already satisfied: charset-normalizer<4,>=2 in c:\\users\\eland\\miniconda3\\envs\\x\\lib\\site-packages (from requests<3.0,>=2.0->jpstat) (2.0.4)\n",
      "Requirement already satisfied: idna<4,>=2.5 in c:\\users\\eland\\miniconda3\\envs\\x\\lib\\site-packages (from requests<3.0,>=2.0->jpstat) (2.10)\n",
      "Requirement already satisfied: urllib3<3,>=1.21.1 in c:\\users\\eland\\miniconda3\\envs\\x\\lib\\site-packages (from requests<3.0,>=2.0->jpstat) (1.26.18)\n",
      "Requirement already satisfied: certifi>=2017.4.17 in c:\\users\\eland\\miniconda3\\envs\\x\\lib\\site-packages (from requests<3.0,>=2.0->jpstat) (2023.11.17)\n",
      "Requirement already satisfied: pyquery in c:\\users\\eland\\miniconda3\\envs\\x\\lib\\site-packages (from requests_html<0.11.0,>=0.10.0->jpstat) (2.0.0)\n",
      "Requirement already satisfied: fake-useragent in c:\\users\\eland\\miniconda3\\envs\\x\\lib\\site-packages (from requests_html<0.11.0,>=0.10.0->jpstat) (1.4.0)\n",
      "Requirement already satisfied: parse in c:\\users\\eland\\miniconda3\\envs\\x\\lib\\site-packages (from requests_html<0.11.0,>=0.10.0->jpstat) (1.20.1)\n",
      "Requirement already satisfied: bs4 in c:\\users\\eland\\miniconda3\\envs\\x\\lib\\site-packages (from requests_html<0.11.0,>=0.10.0->jpstat) (0.0.2)\n",
      "Requirement already satisfied: w3lib in c:\\users\\eland\\miniconda3\\envs\\x\\lib\\site-packages (from requests_html<0.11.0,>=0.10.0->jpstat) (2.1.2)\n",
      "Requirement already satisfied: pyppeteer>=0.0.14 in c:\\users\\eland\\miniconda3\\envs\\x\\lib\\site-packages (from requests_html<0.11.0,>=0.10.0->jpstat) (2.0.0)\n",
      "Requirement already satisfied: appdirs<2.0.0,>=1.4.3 in c:\\users\\eland\\miniconda3\\envs\\x\\lib\\site-packages (from pyppeteer>=0.0.14->requests_html<0.11.0,>=0.10.0->jpstat) (1.4.4)\n",
      "Requirement already satisfied: importlib-metadata>=1.4 in c:\\users\\eland\\miniconda3\\envs\\x\\lib\\site-packages (from pyppeteer>=0.0.14->requests_html<0.11.0,>=0.10.0->jpstat) (6.0.0)\n",
      "Requirement already satisfied: pyee<12.0.0,>=11.0.0 in c:\\users\\eland\\miniconda3\\envs\\x\\lib\\site-packages (from pyppeteer>=0.0.14->requests_html<0.11.0,>=0.10.0->jpstat) (11.1.0)\n",
      "Requirement already satisfied: tqdm<5.0.0,>=4.42.1 in c:\\users\\eland\\miniconda3\\envs\\x\\lib\\site-packages (from pyppeteer>=0.0.14->requests_html<0.11.0,>=0.10.0->jpstat) (4.66.2)\n",
      "Requirement already satisfied: websockets<11.0,>=10.0 in c:\\users\\eland\\miniconda3\\envs\\x\\lib\\site-packages (from pyppeteer>=0.0.14->requests_html<0.11.0,>=0.10.0->jpstat) (10.4)\n",
      "Requirement already satisfied: six>=1.5 in c:\\users\\eland\\miniconda3\\envs\\x\\lib\\site-packages (from python-dateutil>=2.8.1->pandas<2.0,>=1.0->jpstat) (1.16.0)\n",
      "Requirement already satisfied: beautifulsoup4 in c:\\users\\eland\\miniconda3\\envs\\x\\lib\\site-packages (from bs4->requests_html<0.11.0,>=0.10.0->jpstat) (4.12.2)\n",
      "Requirement already satisfied: importlib-resources>=5.0 in c:\\users\\eland\\miniconda3\\envs\\x\\lib\\site-packages (from fake-useragent->requests_html<0.11.0,>=0.10.0->jpstat) (6.1.1)\n",
      "Requirement already satisfied: lxml>=2.1 in c:\\users\\eland\\miniconda3\\envs\\x\\lib\\site-packages (from pyquery->requests_html<0.11.0,>=0.10.0->jpstat) (4.9.4)\n",
      "Requirement already satisfied: cssselect>=1.2.0 in c:\\users\\eland\\miniconda3\\envs\\x\\lib\\site-packages (from pyquery->requests_html<0.11.0,>=0.10.0->jpstat) (1.2.0)\n",
      "Requirement already satisfied: zipp>=0.5 in c:\\users\\eland\\miniconda3\\envs\\x\\lib\\site-packages (from importlib-metadata>=1.4->pyppeteer>=0.0.14->requests_html<0.11.0,>=0.10.0->jpstat) (3.11.0)\n",
      "Requirement already satisfied: typing-extensions in c:\\users\\eland\\miniconda3\\envs\\x\\lib\\site-packages (from pyee<12.0.0,>=11.0.0->pyppeteer>=0.0.14->requests_html<0.11.0,>=0.10.0->jpstat) (4.7.1)\n",
      "Requirement already satisfied: colorama in c:\\users\\eland\\miniconda3\\envs\\x\\lib\\site-packages (from tqdm<5.0.0,>=4.42.1->pyppeteer>=0.0.14->requests_html<0.11.0,>=0.10.0->jpstat) (0.4.6)\n",
      "Requirement already satisfied: soupsieve>1.2 in c:\\users\\eland\\miniconda3\\envs\\x\\lib\\site-packages (from beautifulsoup4->bs4->requests_html<0.11.0,>=0.10.0->jpstat) (2.5)\n",
      "Requirement already satisfied: wbgapi in c:\\users\\eland\\miniconda3\\envs\\x\\lib\\site-packages (1.0.12)\n",
      "Requirement already satisfied: requests in c:\\users\\eland\\miniconda3\\envs\\x\\lib\\site-packages (from wbgapi) (2.31.0)\n",
      "Requirement already satisfied: PyYAML in c:\\users\\eland\\miniconda3\\envs\\x\\lib\\site-packages (from wbgapi) (6.0.1)\n",
      "Requirement already satisfied: tabulate in c:\\users\\eland\\miniconda3\\envs\\x\\lib\\site-packages (from wbgapi) (0.9.0)\n",
      "Requirement already satisfied: charset-normalizer<4,>=2 in c:\\users\\eland\\miniconda3\\envs\\x\\lib\\site-packages (from requests->wbgapi) (2.0.4)\n",
      "Requirement already satisfied: idna<4,>=2.5 in c:\\users\\eland\\miniconda3\\envs\\x\\lib\\site-packages (from requests->wbgapi) (2.10)\n",
      "Requirement already satisfied: urllib3<3,>=1.21.1 in c:\\users\\eland\\miniconda3\\envs\\x\\lib\\site-packages (from requests->wbgapi) (1.26.18)\n",
      "Requirement already satisfied: certifi>=2017.4.17 in c:\\users\\eland\\miniconda3\\envs\\x\\lib\\site-packages (from requests->wbgapi) (2023.11.17)\n",
      "Requirement already satisfied: fredapi in c:\\users\\eland\\miniconda3\\envs\\x\\lib\\site-packages (0.5.1)\n",
      "Requirement already satisfied: pandas in c:\\users\\eland\\miniconda3\\envs\\x\\lib\\site-packages (from fredapi) (1.5.3)\n",
      "Requirement already satisfied: python-dateutil>=2.8.1 in c:\\users\\eland\\miniconda3\\envs\\x\\lib\\site-packages (from pandas->fredapi) (2.8.2)\n",
      "Requirement already satisfied: pytz>=2020.1 in c:\\users\\eland\\miniconda3\\envs\\x\\lib\\site-packages (from pandas->fredapi) (2023.3.post1)\n",
      "Requirement already satisfied: numpy>=1.20.3 in c:\\users\\eland\\miniconda3\\envs\\x\\lib\\site-packages (from pandas->fredapi) (1.24.3)\n",
      "Requirement already satisfied: six>=1.5 in c:\\users\\eland\\miniconda3\\envs\\x\\lib\\site-packages (from python-dateutil>=2.8.1->pandas->fredapi) (1.16.0)\n"
     ]
    }
   ],
   "source": [
    "!pip install pandas\n",
    "!pip install matplotlib\n",
    "!pip install requests-html\n",
    "!pip install numpy\n",
    "!pip install statsmodels\n",
    "!pip install scipy\n",
    "!pip install linearmodels\n",
    "!pip install jpstat\n",
    "!pip install wbgapi\n",
    "!pip install fredapi"
   ]
  },
  {
   "cell_type": "code",
   "execution_count": 2,
   "metadata": {},
   "outputs": [],
   "source": [
    "import os\n",
    "import pandas as pd\n",
    "from requests_html import HTMLSession\n",
    "import jpstat\n",
    "import json\n",
    "import sys\n",
    "from fredapi import Fred"
   ]
  },
  {
   "cell_type": "code",
   "execution_count": 3,
   "metadata": {},
   "outputs": [],
   "source": [
    "# freadpi setting\n",
    "fred = Fred(api_key=\"a8f0cdf1d0b64d1188b9c64ed64c77b6\")"
   ]
  },
  {
   "cell_type": "markdown",
   "metadata": {},
   "source": [
    "### **Data Import**"
   ]
  },
  {
   "cell_type": "markdown",
   "metadata": {},
   "source": [
    "##### 0) Y = Japan's S&P credit rating "
   ]
  },
  {
   "cell_type": "code",
   "execution_count": 4,
   "metadata": {},
   "outputs": [],
   "source": [
    "import pandas as pd\n",
    "from pandas import DataFrame "
   ]
  },
  {
   "cell_type": "code",
   "execution_count": 5,
   "metadata": {},
   "outputs": [],
   "source": [
    "# Retrieving data for Japan's S&P credit rating over time\n",
    "# given data sources' scarsity in API or csv format, we must retrieve and import data manually\n",
    "# sources: - S&P: https://secure.signin.spglobal.com/oauth2/spglobal/v1/authorize?client_id=RTG_SPCOM_OIDC_SPA&code_challenge=8q3pk87d9OsXsPcSEsEqDU73ebAgrrgGisBktknk-Mo&code_challenge_method=S256&display=en&nonce=eUZBTBrwiWo8teViVnCDX5nPjuGGPAksQ0iJGCn8Dt2dulpGVOFyHcQBM9hL4MFp&redirect_uri=https%3A%2F%2Fdisclosure.spglobal.com%2Fcallback&response_type=code&state=ANPnbEi0sjdBw4IIkJfXAM92WE70SrJetdBMt9HrQ2p5uyyVtbtIUpUqzSSekCZv&scope=openid%20email%20profile%20offline_access%20rtg_spcom%20ratings  \n",
    "#          - World Government Bonds: https://www.worldgovernmentbonds.com/credit-rating/japan/?utm_content=cmp-true \n",
    "\n",
    "# since the S&P credit rating is a measuring scale of a country's crediworthiness alpahabetically expessed as a string, we want to convert it into a numerical scale to better fit our regressive model\n",
    "SP_ratings = [\"BBB\", \"BBB\", \"BBB\", \"BBB\", \"BBB\", \"BBB\", \"BBB\", \"BBB\", \"BBB\", \"BBB\", \"BBB\", \"BBB\", \"BBB\", \"BBB\", \"BBB\", \"BBB\", \"BBB\", \"AAA\", \"AAA\", \"AAA\", \"AAA\", \"AAA\", \"AAA\", \"AAA\", \"AAA\", \"AAA\", \"AAA\", \"AAA\", \"AAA\", \"AAA\", \"AAA\", \"AAA\", \"AAA\", \"AAA\", \"AAA\", \"AAA\", \"AAA\", \"AAA\", \"AAA\", \"AAA\", \"AAA\", \"AAA\", \"AA+\", \"AA-\", \"AA-\", \"AA-\", \"AA-\", \"AA-\", \"AA\", \"AA\", \"AA\", \"AA\", \"AA-\", \"AA-\", \"AA-\", \"AA-\", \"A+\", \"A+\", \"A+\", \"A+\", \"A+\", \"A+\", \"A+\", \"A+\"]\n",
    "\n",
    "def numerical(ratings):\n",
    "    \n",
    "    numerical_values=[]\n",
    "\n",
    "    for rating in ratings:\n",
    "        if rating==\"AAA\":\n",
    "            num=100\n",
    "        elif rating==\"AA+\":\n",
    "            num=96\n",
    "        elif rating==\"AA\":\n",
    "            num=92\n",
    "        elif rating==\"AA-\":\n",
    "            num=88\n",
    "        elif rating==\"A+\":\n",
    "            num=84\n",
    "        elif rating==\"A\":\n",
    "            num=80\n",
    "        elif rating==\"A-\":\n",
    "            num=76\n",
    "        elif rating==\"BBB+\":\n",
    "            num=72\n",
    "        elif rating==\"BBB\":\n",
    "            num=68\n",
    "        elif rating==\"BBB-\":\n",
    "            num=64\n",
    "        elif rating==\"BB+\":\n",
    "            num=60\n",
    "        elif rating==\"BB\":\n",
    "            num=56\n",
    "        elif rating==\"BB-\":\n",
    "            num=52\n",
    "        elif rating==\"B+\":\n",
    "            num=48\n",
    "        elif rating==\"B\":\n",
    "            num=44\n",
    "        elif rating==\"B-\":\n",
    "            num=40\n",
    "        elif rating==\"CCC+\":\n",
    "            num=36\n",
    "        elif rating==\"CCC\":\n",
    "            num=32\n",
    "        elif rating==\"CCC-\":\n",
    "            num=28\n",
    "        elif rating==\"CC\":\n",
    "            num=24\n",
    "        elif rating==\"C\":\n",
    "            num=20\n",
    "        elif rating==\"RD\":\n",
    "            num=16\n",
    "        elif rating==\"SD\":\n",
    "            num=12\n",
    "        elif rating==\"D_NR\":\n",
    "            num=0\n",
    "        else:\n",
    "            num=None\n",
    "        \n",
    "        numerical_values.append(num)\n",
    "\n",
    "    # the return function must go outside the loop to ensure that the loop won't stop at the very first observation \n",
    "    return numerical_values        "
   ]
  },
  {
   "cell_type": "code",
   "execution_count": 6,
   "metadata": {},
   "outputs": [
    {
     "name": "stdout",
     "output_type": "stream",
     "text": [
      "    Year S&P credit rating  Numerical Index\n",
      "0   1960               BBB               68\n",
      "1   1961               BBB               68\n",
      "2   1962               BBB               68\n",
      "3   1963               BBB               68\n",
      "4   1964               BBB               68\n",
      "..   ...               ...              ...\n",
      "58  2018                A+               84\n",
      "59  2019                A+               84\n",
      "60  2020                A+               84\n",
      "61  2021                A+               84\n",
      "62  2022                A+               84\n",
      "\n",
      "[63 rows x 3 columns]\n"
     ]
    }
   ],
   "source": [
    "# set the dictionary\n",
    "SP_data = {\"Year\":list(range(1959, 2023)),\n",
    "         \"S&P credit rating\": SP_ratings,\n",
    "         \"Numerical Index\": numerical(SP_ratings) \n",
    "         }\n",
    "\n",
    "# convert the dictionary to pandas dataframe\n",
    "SPdf = pd.DataFrame(SP_data)\n",
    "\n",
    "# dataframe manipulation\n",
    "SPdf = SPdf.drop(0)\n",
    "SPdf = SPdf.reset_index(inplace=False)\n",
    "SPdf = SPdf.drop(\"index\", axis=1)\n",
    "SPdf[\"Year\"] = pd.to_datetime(SPdf[\"Year\"], format=\"%Y\", errors=\"coerce\")\n",
    "SPdf[\"Year\"] = SPdf[\"Year\"].dt.strftime(\"%Y\") \n",
    "\n",
    "print(DataFrame(SPdf))"
   ]
  },
  {
   "cell_type": "markdown",
   "metadata": {},
   "source": [
    "##### 1) X1 = Japan's Inflation rate trends "
   ]
  },
  {
   "cell_type": "code",
   "execution_count": 7,
   "metadata": {},
   "outputs": [],
   "source": [
    "import os\n",
    "import fredapi as fa\n",
    "import pandas as pd\n",
    "from fredapi import Fred"
   ]
  },
  {
   "cell_type": "code",
   "execution_count": 8,
   "metadata": {},
   "outputs": [
    {
     "name": "stdout",
     "output_type": "stream",
     "text": [
      "                   0\n",
      "1960-01-01  3.574512\n",
      "1961-01-01  5.368462\n",
      "1962-01-01  6.835440\n",
      "1963-01-01  6.706906\n",
      "1964-01-01  3.800389\n",
      "...              ...\n",
      "2018-01-01  0.989095\n",
      "2019-01-01  0.468776\n",
      "2020-01-01 -0.024996\n",
      "2021-01-01 -0.233353\n",
      "2022-01-01  2.497703\n",
      "\n",
      "[63 rows x 1 columns]\n"
     ]
    }
   ],
   "source": [
    "# Retrieving data for Japan's Inflation rate over time \n",
    "# sources: - FRED: https://fred.stlouisfed.org/series/FPCPITOTLZGJPN \n",
    "# frequency: annual\n",
    "# time span (year): 1960-2022\n",
    "# dataframe tag: percentage growth in CPI\n",
    "\n",
    "CPI_data = fred.get_series(\"FPCPITOTLZGJPN\")\n",
    "CPI_data = CPI_data.to_frame()\n",
    "print(CPI_data)"
   ]
  },
  {
   "cell_type": "code",
   "execution_count": 9,
   "metadata": {},
   "outputs": [
    {
     "name": "stdout",
     "output_type": "stream",
     "text": [
      "    Year  Inflation Rate\n",
      "0   1960        3.574512\n",
      "1   1961        5.368462\n",
      "2   1962        6.835440\n",
      "3   1963        6.706906\n",
      "4   1964        3.800389\n",
      "..   ...             ...\n",
      "58  2018        0.989095\n",
      "59  2019        0.468776\n",
      "60  2020       -0.024996\n",
      "61  2021       -0.233353\n",
      "62  2022        2.497703\n",
      "\n",
      "[63 rows x 2 columns]\n"
     ]
    }
   ],
   "source": [
    "# convert the dataframe to pandas dataframe\n",
    "CPIdf = pd.DataFrame(CPI_data)\n",
    "\n",
    "# dataframe manipulation\n",
    "CPIdf = CPIdf.reset_index(inplace=False)\n",
    "CPIdf = CPIdf.rename(columns={\"index\":\"Year\", 0:\"Inflation Rate\"})\n",
    "CPIdf[\"Year\"] = pd.to_datetime(CPIdf[\"Year\"], format=\"%Y-%m-%d\", errors=\"coerce\") \n",
    "CPIdf[\"Year\"] = CPIdf[\"Year\"].dt.strftime(\"%Y\")\n",
    "\n",
    "print(DataFrame(CPIdf))"
   ]
  },
  {
   "cell_type": "markdown",
   "metadata": {},
   "source": [
    "##### 2) X2 = Japan-G7 Inflation rate gap "
   ]
  },
  {
   "cell_type": "code",
   "execution_count": 10,
   "metadata": {},
   "outputs": [],
   "source": [
    "import pandas as pd\n",
    "from pandas import DataFrame "
   ]
  },
  {
   "cell_type": "code",
   "execution_count": 11,
   "metadata": {},
   "outputs": [
    {
     "name": "stdout",
     "output_type": "stream",
     "text": [
      "      ï»¿LOCATION        Country   SUBJECT  \\\n",
      "0             USA  United States  CP040000   \n",
      "1             USA  United States  CP040000   \n",
      "2             USA  United States  CP040000   \n",
      "3             USA  United States  CP040000   \n",
      "4             USA  United States  CP040000   \n",
      "...           ...            ...       ...   \n",
      "38304         DEU        Germany  CPGRHO01   \n",
      "38305         DEU        Germany  CPGRHO01   \n",
      "38306         DEU        Germany  CPGRHO01   \n",
      "38307         DEU        Germany  CPGRHO01   \n",
      "38308         DEU        Germany  CPGRHO01   \n",
      "\n",
      "                                                 Subject MEASURE  \\\n",
      "0      CPI: 04 - Housing, water, electricity, gas and...    IXOB   \n",
      "1      CPI: 04 - Housing, water, electricity, gas and...    IXOB   \n",
      "2      CPI: 04 - Housing, water, electricity, gas and...    IXOB   \n",
      "3      CPI: 04 - Housing, water, electricity, gas and...    IXOB   \n",
      "4      CPI: 04 - Housing, water, electricity, gas and...    IXOB   \n",
      "...                                                  ...     ...   \n",
      "38304                                       CPI: Housing    IXNB   \n",
      "38305                                       CPI: Housing    IXNB   \n",
      "38306                                       CPI: Housing    IXNB   \n",
      "38307                                       CPI: Housing    IXNB   \n",
      "38308                                       CPI: Housing    IXNB   \n",
      "\n",
      "              Measure FREQUENCY Frequency  TIME  Time Unit Code   Unit  \\\n",
      "0               Index         A    Annual  2010  2010       IDX  Index   \n",
      "1               Index         A    Annual  2011  2011       IDX  Index   \n",
      "2               Index         A    Annual  2012  2012       IDX  Index   \n",
      "3               Index         A    Annual  2013  2013       IDX  Index   \n",
      "4               Index         A    Annual  2014  2014       IDX  Index   \n",
      "...               ...       ...       ...   ...   ...       ...    ...   \n",
      "38304  National Index         A    Annual  2018  2018       IDX  Index   \n",
      "38305  National Index         A    Annual  2019  2019       IDX  Index   \n",
      "38306  National Index         A    Annual  2020  2020       IDX  Index   \n",
      "38307  National Index         A    Annual  2021  2021       IDX  Index   \n",
      "38308  National Index         A    Annual  2022  2022       IDX  Index   \n",
      "\n",
      "       PowerCode Code PowerCode Reference Period Code Reference Period  \\\n",
      "0                   0     Units              2015_100         2015=100   \n",
      "1                   0     Units              2015_100         2015=100   \n",
      "2                   0     Units              2015_100         2015=100   \n",
      "3                   0     Units              2015_100         2015=100   \n",
      "4                   0     Units              2015_100         2015=100   \n",
      "...               ...       ...                   ...              ...   \n",
      "38304               0     Units              2020_100         2020=100   \n",
      "38305               0     Units              2020_100         2020=100   \n",
      "38306               0     Units              2020_100         2020=100   \n",
      "38307               0     Units              2020_100         2020=100   \n",
      "38308               0     Units              2020_100         2020=100   \n",
      "\n",
      "           Value Flag Codes Flags  \n",
      "0       89.76111        NaN   NaN  \n",
      "1       91.10512        NaN   NaN  \n",
      "2       92.67442        NaN   NaN  \n",
      "3       94.90362        NaN   NaN  \n",
      "4       97.72172        NaN   NaN  \n",
      "...          ...        ...   ...  \n",
      "38304   97.09335        NaN   NaN  \n",
      "38305   98.61498        NaN   NaN  \n",
      "38306  100.00000        NaN   NaN  \n",
      "38307  101.37690        NaN   NaN  \n",
      "38308  103.45380        NaN   NaN  \n",
      "\n",
      "[38309 rows x 19 columns]\n"
     ]
    },
    {
     "name": "stderr",
     "output_type": "stream",
     "text": [
      "C:\\Users\\eland\\AppData\\Local\\Temp\\ipykernel_15076\\3258032757.py:7: DtypeWarning: Columns (17,18) have mixed types. Specify dtype option on import or set low_memory=False.\n",
      "  IRG7_data = pd.read_csv(r\"C:\\Users\\eland\\Desktop\\Thesis 2\\Datasets\\G7_CPI.csv\", encoding=\"latin-1\")\n"
     ]
    }
   ],
   "source": [
    "# Retrieving data for G7 (average)'s Inflation rate over time \n",
    "# sources: - OECD: https://stats.oecd.org/viewhtml.aspx?datasetcode=PRICES_CPI&lang=en# \n",
    "# frequency: annual\n",
    "# time span (year): 1960-2022\n",
    "# dataframe tag: percentage growth in CPI\n",
    "\n",
    "IRG7_data = pd.read_csv(r\"C:\\Users\\eland\\Desktop\\Thesis 2\\Datasets\\G7_CPI.csv\", encoding=\"latin-1\")\n",
    "print(IRG7_data)"
   ]
  },
  {
   "cell_type": "code",
   "execution_count": 12,
   "metadata": {},
   "outputs": [
    {
     "name": "stdout",
     "output_type": "stream",
     "text": [
      "    Year  G7 Average Inflation Rate  JPN-G7 Inflation Gap\n",
      "0   1960                   2.203067              1.371445\n",
      "1   1961                   2.521468              2.846994\n",
      "2   1962                   3.736855              3.098586\n",
      "3   1963                   3.859159              2.847747\n",
      "4   1964                   3.104612              0.695778\n",
      "..   ...                        ...                   ...\n",
      "58  2018                   1.819568             -0.830473\n",
      "59  2019                   1.299077             -0.830301\n",
      "60  2020                   0.489951             -0.514947\n",
      "61  2021                   2.859195             -3.092548\n",
      "62  2022                   7.179457             -4.681754\n",
      "\n",
      "[63 rows x 3 columns]\n"
     ]
    }
   ],
   "source": [
    "# convert the dataframe to pandas dataframe\n",
    "IRG7df1 = pd.DataFrame(IRG7_data)\n",
    "\n",
    "# dataframe manipulation\n",
    "IRG7df2 = IRG7df1[IRG7df1[\"Country\"].str.contains(\"Canada|France|Germany|Italy|Japan|United Kingdom|United States\")]\n",
    "IRG7df3 = IRG7df2[IRG7df2[\"Measure\"].str.contains(\"Percentage change from previous period\")]\n",
    "IRG7df = IRG7df3[IRG7df3[\"Subject\"].str.contains(\"CPI: 01-12 - All items\")]\n",
    "IRG7df = pd.DataFrame(IRG7df)\n",
    "IRG7df = IRG7df.rename(columns={\"Time\":\"Year\"})\n",
    "IRG7df = IRG7df.drop(columns=[\"ï»¿LOCATION\", \"SUBJECT\", \"Subject\", \"MEASURE\", \"Measure\", \"FREQUENCY\", \"Frequency\", \"TIME\", \"Unit Code\", \"Unit\", \"PowerCode Code\", \"PowerCode\", \"Reference Period Code\", \"Reference Period\", \"Flag Codes\", \"Flags\"])\n",
    "IRG7df = IRG7df.reset_index(drop=True)\n",
    "\n",
    "# extract the average inflation rate of the G7 powers \n",
    "G7_average = IRG7df.groupby(\"Year\")[\"Value\"].mean().reset_index()\n",
    "G7_average[\"Country\"] = \"G7\"\n",
    "IRG7df = pd.concat([IRG7df, G7_average], ignore_index=True)\n",
    "IRG7df = IRG7df[IRG7df[\"Country\"].str.contains(\"G7\")]\n",
    "IRG7df = IRG7df.drop(columns=[\"Country\"]).rename(columns={\"Value\":\"G7 Average Inflation Rate\"})\n",
    "IRG7df = IRG7df.reset_index(drop=True)\n",
    "\n",
    "# generate the inflation rate gap (Japan IR - G7 IR)\n",
    "IRG7df[\"Japan Inflation Rate\"] = CPIdf[\"Inflation Rate\"]\n",
    "IRG7df[\"JPN-G7 Inflation Gap\"] = IRG7df[\"Japan Inflation Rate\"] - IRG7df[\"G7 Average Inflation Rate\"]\n",
    "IRG7df = IRG7df.drop(columns=[\"Japan Inflation Rate\"])\n",
    "IRG7df[\"Year\"] = pd.to_datetime(IRG7df[\"Year\"], format=\"%Y\", errors=\"coerce\")\n",
    "IRG7df[\"Year\"] = IRG7df[\"Year\"].dt.strftime(\"%Y\") \n",
    "\n",
    "print(IRG7df)"
   ]
  },
  {
   "cell_type": "markdown",
   "metadata": {},
   "source": [
    "##### 3) X3 = Cumulative number of years of default or debt restructuring  "
   ]
  },
  {
   "cell_type": "code",
   "execution_count": 13,
   "metadata": {},
   "outputs": [],
   "source": [
    "import pandas as pd\n",
    "from pandas import DataFrame "
   ]
  },
  {
   "cell_type": "code",
   "execution_count": 14,
   "metadata": {},
   "outputs": [],
   "source": [
    "# Retrieving data for Japan's cumulative number of years of default or debt restructuring from 1960 \n",
    "# given data sources' scarsity in API or csv format, we must retrieve and import data manually\n",
    "# sources: - (Meyer et al., 2019): https://www.nber.org/system/files/working_papers/w25543/revisions/w25543.rev0.pdf\n",
    "\n",
    "cumnum_defrest = [0, 0, 0, 0, 0, 0, 0, 0, 0, 0, 0, 0, 0, 0, 0, 1, 2, 3, 4, 5, 6, 7, 8, 9, 10, 11, 12, 13, 14, 15, 16, 17, 18, 19, 20, 21, 21, 21, 21, 21, 21, 21, 21, 21, 21, 21, 21, 21, 21, 21, 21, 21, 21, 21, 21, 21, 21, 21, 21, 21, 21, 21, 21]"
   ]
  },
  {
   "cell_type": "code",
   "execution_count": 15,
   "metadata": {},
   "outputs": [
    {
     "name": "stdout",
     "output_type": "stream",
     "text": [
      "    Year  Years of Default/Restructuring\n",
      "0   1960                               0\n",
      "1   1961                               0\n",
      "2   1962                               0\n",
      "3   1963                               0\n",
      "4   1964                               0\n",
      "..   ...                             ...\n",
      "58  2018                              21\n",
      "59  2019                              21\n",
      "60  2020                              21\n",
      "61  2021                              21\n",
      "62  2022                              21\n",
      "\n",
      "[63 rows x 2 columns]\n"
     ]
    }
   ],
   "source": [
    "# set the dictionary\n",
    "DR_data = {\"Year\":list(range(1960, 2023)),\n",
    "         \"Years of Default/Restructuring\": cumnum_defrest, \n",
    "         }\n",
    "\n",
    "# convert the dictionary to pandas dataframe\n",
    "DRdf = pd.DataFrame(DR_data)\n",
    "\n",
    "# dataframe manipulation\n",
    "DRdf = DRdf.reset_index(inplace=False)\n",
    "DRdf = DRdf.drop(\"index\", axis=1)\n",
    "DRdf[\"Year\"] = pd.to_datetime(DRdf[\"Year\"], format=\"%Y\", errors=\"coerce\")\n",
    "DRdf[\"Year\"] = DRdf[\"Year\"].dt.strftime(\"%Y\") \n",
    "\n",
    "print(DataFrame(DRdf))"
   ]
  },
  {
   "cell_type": "markdown",
   "metadata": {},
   "source": [
    "##### 4) X4 = Number of years since last default or debt restructuring  "
   ]
  },
  {
   "cell_type": "code",
   "execution_count": 16,
   "metadata": {},
   "outputs": [],
   "source": [
    "import pandas as pd\n",
    "from pandas import DataFrame "
   ]
  },
  {
   "cell_type": "code",
   "execution_count": 17,
   "metadata": {},
   "outputs": [],
   "source": [
    "# Retrieving data for Japan's number of years since last default or debt restructuring from 1960 \n",
    "# given data sources' scarsity in API or csv format, we must retrieve and import data manually\n",
    "# sources: - (Meyer et al., 2019): https://www.nber.org/system/files/working_papers/w25543/revisions/w25543.rev0.pdf\n",
    "\n",
    "num_lastdefrest = [1, 2, 3, 4, 5, 6, 7, 8, 9, 10, 11, 12, 13, 14, 15, 0, 0, 0, 0, 0, 0, 0, 0, 0, 0, 0, 0, 0, 0, 0, 0, 0, 0, 0, 0, 0, 1, 2, 3, 4, 5, 6, 7, 8, 9, 10, 11, 12, 13, 14, 15, 16, 17, 18, 19, 20, 21, 22, 23, 24, 25, 26, 27]"
   ]
  },
  {
   "cell_type": "code",
   "execution_count": 18,
   "metadata": {},
   "outputs": [
    {
     "name": "stdout",
     "output_type": "stream",
     "text": [
      "    Year  Years since last Default/Restructuring\n",
      "0   1960                                       1\n",
      "1   1961                                       2\n",
      "2   1962                                       3\n",
      "3   1963                                       4\n",
      "4   1964                                       5\n",
      "..   ...                                     ...\n",
      "58  2018                                      23\n",
      "59  2019                                      24\n",
      "60  2020                                      25\n",
      "61  2021                                      26\n",
      "62  2022                                      27\n",
      "\n",
      "[63 rows x 2 columns]\n"
     ]
    }
   ],
   "source": [
    "# set the dictionary\n",
    "LDR_data = {\"Year\":list(range(1960, 2023)),\n",
    "         \"Years since last Default/Restructuring\": num_lastdefrest, \n",
    "         }\n",
    "\n",
    "# convert the dictionary to pandas dataframe\n",
    "LDRdf = pd.DataFrame(LDR_data)\n",
    "\n",
    "# dataframe manipulation\n",
    "LDRdf = LDRdf.reset_index(inplace=False)\n",
    "LDRdf = LDRdf.drop(\"index\", axis=1)\n",
    "LDRdf[\"Year\"] = pd.to_datetime(LDRdf[\"Year\"], format=\"%Y\", errors=\"coerce\")\n",
    "LDRdf[\"Year\"] = LDRdf[\"Year\"].dt.strftime(\"%Y\") \n",
    "\n",
    "print(DataFrame(LDRdf))"
   ]
  },
  {
   "cell_type": "markdown",
   "metadata": {},
   "source": [
    "##### 5) X5 = Government political continuity/stability cumulative score"
   ]
  },
  {
   "cell_type": "code",
   "execution_count": 19,
   "metadata": {},
   "outputs": [],
   "source": [
    "import pandas as pd\n",
    "from pandas import DataFrame "
   ]
  },
  {
   "cell_type": "code",
   "execution_count": 20,
   "metadata": {},
   "outputs": [],
   "source": [
    "# Retrieving data for Japan's government continuity/stability score from 1960 \n",
    "# the political proxy (government continuity/stability score) is built as follows: - 1 point is assigned if the government ruling during the year belong to the same political party/coalition of the preceding 2 years (cumulative upon a maximum of 15 cumulative points) \n",
    "#                                                                                  - 1 point is assigned if the prime minister in charge during the year is the same of the preceding 2 years (non-cumulative)\n",
    "#                                                                                  - 1 point is assigned if during the year the government enjoys a majority of votes within the parliament that exceeds 60% (国会, Hepburn: Kokkai) (non-cumulative)\n",
    "#                                                                                  - at a change of political lead the score is not allowed to fall for more than 10 points\n",
    "# given data sources' scarsity in API or csv format, we must retrieve and import data manually\n",
    "# sources: - (Krauss & Pekkanen, 2011): https://www.degruyter.com/document/doi/10.7591/9780801460029/html \n",
    "#          - (Zakowski, 2011): https://www.tandfonline.com/doi/abs/10.1080/02185377.2011.600166\n",
    "#          - (Hrebenar, 2019): https://books.google.fr/books?hl=en&lr=&id=P6yhDwAAQBAJ&oi=fnd&pg=PT12&dq=japanese+political+party+&ots=o26KU9Qw6v&sig=f5dIAgRV5zjQGkcbeqMX4D4ty7o&redir_esc=y#v=onepage&q=japanese%20political%20party&f=false \n",
    "#          - (Flanagan, 1971): https://www.jstor.org/stable/421301?casa_token=Sk73XFwN-HQAAAAA%3AXWMkmXwZQqbq_yTwtOAo6qe9jviH13hwaX0UAV7MzvmhCz8TGbfeLEkjPnRcMinDWlMHaZtcCbGaeZUb5C8HVnq142TXFUJeCNJY25d85BE8MwuogZu1 \n",
    "\n",
    "polcont_score = [1, 1, 3, 4, 5, 6, 7, 8, 9, 10, 11, 12, 13, 14, 15, 16, 17, 16, 16, 17, 17, 15, 15, 16, 16, 17, 17, 15, 15, 16, 16, 16, 16, 16, 15, 15, 16, 16, 16, 16, 17, 16, 16, 16, 17, 17, 17, 16, 16, 16, 6, 6, 8, 1, 1, 3, 4, 5, 6, 7, 8, 8, 9]"
   ]
  },
  {
   "cell_type": "code",
   "execution_count": 21,
   "metadata": {},
   "outputs": [
    {
     "name": "stdout",
     "output_type": "stream",
     "text": [
      "    Year  Political Continuity/Stability Score\n",
      "0   1960                                     1\n",
      "1   1961                                     1\n",
      "2   1962                                     3\n",
      "3   1963                                     4\n",
      "4   1964                                     5\n",
      "..   ...                                   ...\n",
      "58  2018                                     6\n",
      "59  2019                                     7\n",
      "60  2020                                     8\n",
      "61  2021                                     8\n",
      "62  2022                                     9\n",
      "\n",
      "[63 rows x 2 columns]\n"
     ]
    }
   ],
   "source": [
    "# set the dictionary\n",
    "PCS_data = {\"Year\":list(range(1960, 2023)),\n",
    "         \"Political Continuity/Stability Score\": polcont_score, \n",
    "         }\n",
    "\n",
    "# convert the dictionary to pandas dataframe\n",
    "PCSdf = pd.DataFrame(PCS_data)\n",
    "\n",
    "# dataframe manipulation\n",
    "PCSdf = PCSdf.reset_index(inplace=False)\n",
    "PCSdf = PCSdf.drop(\"index\", axis=1)\n",
    "PCSdf[\"Year\"] = pd.to_datetime(PCSdf[\"Year\"], format=\"%Y\", errors=\"coerce\")\n",
    "PCSdf[\"Year\"] = PCSdf[\"Year\"].dt.strftime(\"%Y\") \n",
    "\n",
    "print(DataFrame(PCSdf))"
   ]
  },
  {
   "cell_type": "markdown",
   "metadata": {},
   "source": [
    "##### 6) X6 = Total Debt to GDP ratio  "
   ]
  },
  {
   "cell_type": "code",
   "execution_count": 22,
   "metadata": {},
   "outputs": [],
   "source": [
    "import pandas as pd\n",
    "from pandas import DataFrame "
   ]
  },
  {
   "cell_type": "code",
   "execution_count": 23,
   "metadata": {},
   "outputs": [
    {
     "name": "stdout",
     "output_type": "stream",
     "text": [
      "  Gross public debt, percent of GDP (% of GDP)     1800     1801     1802  \\\n",
      "0                                          NaN      NaN      NaN      NaN   \n",
      "1                                        Japan  no data  no data  no data   \n",
      "2                                          NaN      NaN      NaN      NaN   \n",
      "3                                   ©IMF, 2024      NaN      NaN      NaN   \n",
      "\n",
      "      1803     1804     1805     1806     1807     1808  ...        2013  \\\n",
      "0      NaN      NaN      NaN      NaN      NaN      NaN  ...         NaN   \n",
      "1  no data  no data  no data  no data  no data  no data  ...  229.463716   \n",
      "2      NaN      NaN      NaN      NaN      NaN      NaN  ...         NaN   \n",
      "3      NaN      NaN      NaN      NaN      NaN      NaN  ...         NaN   \n",
      "\n",
      "         2014        2015        2016        2017        2018       2019  \\\n",
      "0         NaN         NaN         NaN         NaN         NaN        NaN   \n",
      "1  233.286335  228.285137  232.429662  231.319338  232.386265  236.43071   \n",
      "2         NaN         NaN         NaN         NaN         NaN        NaN   \n",
      "3         NaN         NaN         NaN         NaN         NaN        NaN   \n",
      "\n",
      "         2020        2021       2022  \n",
      "0         NaN         NaN        NaN  \n",
      "1  258.708613  255.394024  261.28881  \n",
      "2         NaN         NaN        NaN  \n",
      "3         NaN         NaN        NaN  \n",
      "\n",
      "[4 rows x 224 columns]\n"
     ]
    }
   ],
   "source": [
    "# Retrieving data for Japan's total debt (internal and external) as percentage of GDP over time \n",
    "# sources: - IMF: https://data.imf.org/?sk=806ed027-520d-497f-9052-63ec199f5e63&sid=1390030341854 \n",
    "#          - IMF: https://www.imf.org/external/datamapper/d@FPP/JPN \n",
    "# frequency: annual\n",
    "# time span (year): 1800-2022\n",
    "# dataframe tag: percentage of GDP\n",
    "\n",
    "DGDP_data = pd.read_csv(r\"C:\\Users\\eland\\Desktop\\Thesis 2\\Datasets\\IMF_JPN_DGDP.csv\", encoding=\"latin-1\")\n",
    "print(DGDP_data)"
   ]
  },
  {
   "cell_type": "code",
   "execution_count": 24,
   "metadata": {},
   "outputs": [
    {
     "name": "stdout",
     "output_type": "stream",
     "text": [
      "    Year Public Debt (%GDP)\n",
      "0   1960          10.427302\n",
      "1   1961           8.451823\n",
      "2   1962            9.02589\n",
      "3   1963           8.667781\n",
      "4   1964           8.536577\n",
      "..   ...                ...\n",
      "58  2018         232.386265\n",
      "59  2019          236.43071\n",
      "60  2020         258.708613\n",
      "61  2021         255.394024\n",
      "62  2022          261.28881\n",
      "\n",
      "[63 rows x 2 columns]\n"
     ]
    }
   ],
   "source": [
    "# convert the dataframe to pandas dataframe\n",
    "DGDPdf = pd.DataFrame(DGDP_data)\n",
    "\n",
    "# dataframe manipulation\n",
    "DGDPdf = DGDPdf.transpose()\n",
    "DGDPdf = DGDPdf.reset_index(drop=False)\n",
    "DGDPdf = DGDPdf.rename(columns={\"index\":\"Year\", 1:\"Public Debt (%GDP)\"})\n",
    "DGDPdf = DGDPdf.drop(columns=[0, 2, 3])\n",
    "DGDPdf = DGDPdf.drop(index=range(0, 161))\n",
    "DGDPdf = DGDPdf.reset_index(drop=True)\n",
    "DGDPdf[\"Year\"] = pd.to_datetime(DGDPdf[\"Year\"], format=\"%Y\", errors=\"coerce\")\n",
    "DGDPdf[\"Year\"] = DGDPdf[\"Year\"].dt.strftime(\"%Y\") \n",
    "\n",
    "print(DataFrame(DGDPdf))"
   ]
  },
  {
   "cell_type": "markdown",
   "metadata": {},
   "source": [
    "##### 7) Additional data"
   ]
  },
  {
   "cell_type": "code",
   "execution_count": 25,
   "metadata": {},
   "outputs": [],
   "source": [
    "import pandas as pd\n",
    "from pandas import DataFrame \n",
    "import fredapi"
   ]
  },
  {
   "cell_type": "code",
   "execution_count": 26,
   "metadata": {},
   "outputs": [
    {
     "name": "stdout",
     "output_type": "stream",
     "text": [
      "  Central Government Debt (Percent of GDP)     1950     1951     1952  \\\n",
      "0                                      NaN      NaN      NaN      NaN   \n",
      "1                                    Japan  no data  no data  no data   \n",
      "2                                      NaN      NaN      NaN      NaN   \n",
      "3                               ©IMF, 2024      NaN      NaN      NaN   \n",
      "\n",
      "      1953     1954     1955     1956     1957     1958  ...        2013  \\\n",
      "0      NaN      NaN      NaN      NaN      NaN      NaN  ...         NaN   \n",
      "1  no data  no data  no data  no data  no data  no data  ...  189.143948   \n",
      "2      NaN      NaN      NaN      NaN      NaN      NaN  ...         NaN   \n",
      "3      NaN      NaN      NaN      NaN      NaN      NaN  ...         NaN   \n",
      "\n",
      "         2014        2015        2016        2017        2018        2019  \\\n",
      "0         NaN         NaN         NaN         NaN         NaN         NaN   \n",
      "1  192.851599  189.861967  194.594781  193.931127  195.731869  199.880088   \n",
      "2         NaN         NaN         NaN         NaN         NaN         NaN   \n",
      "3         NaN         NaN         NaN         NaN         NaN         NaN   \n",
      "\n",
      "         2020        2021        2022  \n",
      "0         NaN         NaN         NaN  \n",
      "1  220.673908  218.096641  214.270397  \n",
      "2         NaN         NaN         NaN  \n",
      "3         NaN         NaN         NaN  \n",
      "\n",
      "[4 rows x 74 columns]\n"
     ]
    }
   ],
   "source": [
    "# Retrieving data for Japan's Central Government Debt as percentage of GDP over time \n",
    "# sources: - IMF: https://www.imf.org/external/datamapper/CG_DEBT_GDP@GDD/JPN?zoom=JPN&highlight=JPN \n",
    "# frequency: annual\n",
    "# time span (year): 1969-2022\n",
    "# dataframe tag: percentage of GDP\n",
    "\n",
    "CGD_data = pd.read_csv(r\"C:\\Users\\eland\\Desktop\\Thesis 2\\Datasets\\IMF_JPN_DGDP_Gov.csv\", encoding=\"latin-1\")\n",
    "print(CGD_data)"
   ]
  },
  {
   "cell_type": "code",
   "execution_count": 27,
   "metadata": {},
   "outputs": [
    {
     "name": "stdout",
     "output_type": "stream",
     "text": [
      "    Year Central Government Debt (%GDP)\n",
      "0   1969                       7.588297\n",
      "1   1970                       7.447424\n",
      "2   1971                       8.388414\n",
      "3   1972                       11.47288\n",
      "4   1973                      10.608165\n",
      "5   1974                      10.955101\n",
      "6   1975                      14.018416\n",
      "7   1976                      18.055559\n",
      "8   1977                      22.180677\n",
      "9   1978                      28.957001\n",
      "10  1979                      32.502083\n",
      "11  1980                      33.791945\n",
      "12  1981                      38.134519\n",
      "13  1982                      42.264888\n",
      "14  1983                      47.349724\n",
      "15  1984                      49.074179\n",
      "16  1985                      51.812893\n",
      "17  1986                      57.223447\n",
      "18  1987                      58.209075\n",
      "19  1988                      54.522404\n",
      "20  1989                      48.691914\n",
      "21  1990                      46.110609\n",
      "22  1991                      44.929203\n",
      "23  1992                      47.527952\n",
      "24  1993                      51.346356\n",
      "25  1994                      56.772657\n",
      "26  1995                      62.206603\n",
      "27  1996                      65.877228\n",
      "28  1997                      69.476583\n",
      "29  1998                      77.223953\n",
      "30  1999                      88.121118\n",
      "31  2000                      94.177687\n",
      "32  2001                     100.988613\n",
      "33  2002                     110.001092\n",
      "34  2003                     117.500492\n",
      "35  2004                     127.211344\n",
      "36  2005                     134.523646\n",
      "37  2006                     135.434839\n",
      "38  2007                     135.449859\n",
      "39  2008                     143.280807\n",
      "40  2009                     158.074803\n",
      "41  2010                     165.753547\n",
      "42  2011                     177.913816\n",
      "43  2012                     185.025314\n",
      "44  2013                     189.143948\n",
      "45  2014                     192.851599\n",
      "46  2015                     189.861967\n",
      "47  2016                     194.594781\n",
      "48  2017                     193.931127\n",
      "49  2018                     195.731869\n",
      "50  2019                     199.880088\n",
      "51  2020                     220.673908\n",
      "52  2021                     218.096641\n",
      "53  2022                     214.270397\n"
     ]
    }
   ],
   "source": [
    "# convert the dataframe to pandas dataframe\n",
    "CGDdf = pd.DataFrame(CGD_data)\n",
    "\n",
    "# dataframe manipulation\n",
    "CGDdf = CGDdf.transpose()\n",
    "CGDdf = CGDdf.reset_index(drop=False)\n",
    "CGDdf = CGDdf.rename(columns={\"index\":\"Year\", 1:\"Central Government Debt (%GDP)\"})\n",
    "CGDdf = CGDdf.drop(columns=[0, 2, 3])\n",
    "CGDdf = CGDdf.drop(index=range(0, 20))\n",
    "CGDdf = CGDdf.reset_index(drop=True)\n",
    "\n",
    "print(DataFrame(CGDdf))"
   ]
  },
  {
   "cell_type": "code",
   "execution_count": 28,
   "metadata": {},
   "outputs": [
    {
     "name": "stdout",
     "output_type": "stream",
     "text": [
      "  Private debt, loans and debt securities (Percent of GDP)     1950     1951  \\\n",
      "0                                                NaN            NaN      NaN   \n",
      "1                                              Japan        no data  no data   \n",
      "2                                                NaN            NaN      NaN   \n",
      "3                                         ©IMF, 2024            NaN      NaN   \n",
      "\n",
      "      1952     1953     1954     1955     1956     1957     1958  ...  \\\n",
      "0      NaN      NaN      NaN      NaN      NaN      NaN      NaN  ...   \n",
      "1  no data  no data  no data  no data  no data  no data  no data  ...   \n",
      "2      NaN      NaN      NaN      NaN      NaN      NaN      NaN  ...   \n",
      "3      NaN      NaN      NaN      NaN      NaN      NaN      NaN  ...   \n",
      "\n",
      "         2013        2014       2015        2016        2017        2018  \\\n",
      "0         NaN         NaN        NaN         NaN         NaN         NaN   \n",
      "1  159.563759  157.820563  153.88393  155.737203  156.253062  159.491842   \n",
      "2         NaN         NaN        NaN         NaN         NaN         NaN   \n",
      "3         NaN         NaN        NaN         NaN         NaN         NaN   \n",
      "\n",
      "         2019        2020        2021        2022  \n",
      "0         NaN         NaN         NaN         NaN  \n",
      "1  164.515051  183.489036  184.365046  186.122845  \n",
      "2         NaN         NaN         NaN         NaN  \n",
      "3         NaN         NaN         NaN         NaN  \n",
      "\n",
      "[4 rows x 74 columns]\n"
     ]
    }
   ],
   "source": [
    "# Retrieving data for Japan's Private Debt (loans and debt securities) as percentage of GDP over time \n",
    "# sources: - IMF: https://www.imf.org/external/datamapper/PVD_LS@GDD/JPN?zoom=JPN&highlight=JPN  \n",
    "# frequency: annual\n",
    "# time span (year): 1964-2022\n",
    "# dataframe tag: percentage of GDP\n",
    "\n",
    "PRD_data = pd.read_csv(r\"C:\\Users\\eland\\Desktop\\Thesis 2\\Datasets\\IMF_JPN_DGDP_Priv.csv\", encoding=\"latin-1\")\n",
    "print(PRD_data)"
   ]
  },
  {
   "cell_type": "code",
   "execution_count": 29,
   "metadata": {},
   "outputs": [
    {
     "name": "stdout",
     "output_type": "stream",
     "text": [
      "    Year Private Debt (%GDP)\n",
      "0   1964          109.896931\n",
      "1   1965          116.998648\n",
      "2   1966          117.607284\n",
      "3   1967          118.320696\n",
      "4   1968           116.07238\n",
      "5   1969           117.79413\n",
      "6   1970          117.923888\n",
      "7   1971          130.953145\n",
      "8   1972          139.615733\n",
      "9   1973          137.948629\n",
      "10  1974          131.833325\n",
      "11  1975          136.509099\n",
      "12  1976          137.609608\n",
      "13  1977          136.188311\n",
      "14  1978          135.270812\n",
      "15  1979          137.576607\n",
      "16  1980          140.078323\n",
      "17  1981          143.534477\n",
      "18  1982          149.295966\n",
      "19  1983          155.955521\n",
      "20  1984          159.452742\n",
      "21  1985          161.958687\n",
      "22  1986          168.180423\n",
      "23  1987          183.306616\n",
      "24  1988          189.492427\n",
      "25  1989           200.43156\n",
      "26  1990          206.834367\n",
      "27  1991          205.671048\n",
      "28  1992          208.180108\n",
      "29  1993          213.180576\n",
      "30  1994          214.210843\n",
      "31  1995          212.483513\n",
      "32  1996          208.534549\n",
      "33  1997          206.298997\n",
      "34  1998          199.281898\n",
      "35  1999          196.465771\n",
      "36  2000          187.620079\n",
      "37  2001          182.870962\n",
      "38  2002          179.084432\n",
      "39  2003          171.110412\n",
      "40  2004          163.973106\n",
      "41  2005          162.527614\n",
      "42  2006          161.112241\n",
      "43  2007           158.76986\n",
      "44  2008          163.833177\n",
      "45  2009          170.330227\n",
      "46  2010          162.775824\n",
      "47  2011          163.053077\n",
      "48  2012          161.057984\n",
      "49  2013          159.563759\n",
      "50  2014          157.820563\n",
      "51  2015           153.88393\n",
      "52  2016          155.737203\n",
      "53  2017          156.253062\n",
      "54  2018          159.491842\n",
      "55  2019          164.515051\n",
      "56  2020          183.489036\n",
      "57  2021          184.365046\n",
      "58  2022          186.122845\n"
     ]
    }
   ],
   "source": [
    "# convert the dataframe to pandas dataframe\n",
    "PRDdf = pd.DataFrame(PRD_data)\n",
    "\n",
    "# dataframe manipulation\n",
    "PRDdf = PRDdf.transpose()\n",
    "PRDdf = PRDdf.reset_index(drop=False)\n",
    "PRDdf = PRDdf.rename(columns={\"index\":\"Year\", 1:\"Private Debt (%GDP)\"})\n",
    "PRDdf = PRDdf.drop(columns=[0, 2, 3])\n",
    "PRDdf = PRDdf.drop(index=range(0, 15))\n",
    "PRDdf = PRDdf.reset_index(drop=True)\n",
    "\n",
    "print(DataFrame(PRDdf))"
   ]
  },
  {
   "cell_type": "code",
   "execution_count": 30,
   "metadata": {},
   "outputs": [
    {
     "name": "stdout",
     "output_type": "stream",
     "text": [
      "  Government revenue, percent of GDP (% of GDP)     1800     1801     1802  \\\n",
      "0                                           NaN      NaN      NaN      NaN   \n",
      "1                                         Japan  no data  no data  no data   \n",
      "2                                           NaN      NaN      NaN      NaN   \n",
      "3                                    ©IMF, 2024      NaN      NaN      NaN   \n",
      "\n",
      "      1803     1804     1805     1806     1807     1808  ...      2013  \\\n",
      "0      NaN      NaN      NaN      NaN      NaN      NaN  ...       NaN   \n",
      "1  no data  no data  no data  no data  no data  no data  ...  31.16682   \n",
      "2      NaN      NaN      NaN      NaN      NaN      NaN  ...       NaN   \n",
      "3      NaN      NaN      NaN      NaN      NaN      NaN  ...       NaN   \n",
      "\n",
      "        2014       2015       2016       2017       2018       2019  \\\n",
      "0        NaN        NaN        NaN        NaN        NaN        NaN   \n",
      "1  32.772911  33.617436  33.629667  33.587266  34.267299  34.249053   \n",
      "2        NaN        NaN        NaN        NaN        NaN        NaN   \n",
      "3        NaN        NaN        NaN        NaN        NaN        NaN   \n",
      "\n",
      "        2020       2021       2022  \n",
      "0        NaN        NaN        NaN  \n",
      "1  35.485289  36.552862  37.238607  \n",
      "2        NaN        NaN        NaN  \n",
      "3        NaN        NaN        NaN  \n",
      "\n",
      "[4 rows x 224 columns]\n"
     ]
    }
   ],
   "source": [
    "# Retrieving data for Japan's Government Revenue as percentage of GDP over time \n",
    "# sources: - IMF: https://www.imf.org/external/datamapper/rev@FPP/JPN?zoom=JPN&highlight=JPN\n",
    "# frequency: annual\n",
    "# time span (year): 1875-2022\n",
    "# dataframe tag: percentage of GDP\n",
    "\n",
    "GR_data = pd.read_csv(r\"C:\\Users\\eland\\Desktop\\Thesis 2\\Datasets\\IMF_JPN_GovREv.csv\", encoding=\"latin-1\")\n",
    "print(GR_data)"
   ]
  },
  {
   "cell_type": "code",
   "execution_count": 31,
   "metadata": {},
   "outputs": [
    {
     "name": "stdout",
     "output_type": "stream",
     "text": [
      "    Year Government Revenue (%GDP)\n",
      "0   1960                 20.198999\n",
      "1   1961                   20.7442\n",
      "2   1962                 20.852501\n",
      "3   1963                   21.0749\n",
      "4   1964                   20.6882\n",
      "..   ...                       ...\n",
      "58  2018                 34.267299\n",
      "59  2019                 34.249053\n",
      "60  2020                 35.485289\n",
      "61  2021                 36.552862\n",
      "62  2022                 37.238607\n",
      "\n",
      "[63 rows x 2 columns]\n"
     ]
    }
   ],
   "source": [
    "# convert the dataframe to pandas dataframe\n",
    "GRdf = pd.DataFrame(GR_data)\n",
    "\n",
    "# dataframe manipulation\n",
    "GRdf = GRdf.transpose()\n",
    "GRdf = GRdf.reset_index(drop=False)\n",
    "GRdf = GRdf.rename(columns={\"index\":\"Year\", 1:\"Government Revenue (%GDP)\"})\n",
    "GRdf = GRdf.drop(columns=[0, 2, 3])\n",
    "GRdf = GRdf.drop(index=range(0, 161))\n",
    "GRdf = GRdf.reset_index(drop=True)\n",
    "\n",
    "print(DataFrame(GRdf))"
   ]
  },
  {
   "cell_type": "code",
   "execution_count": 32,
   "metadata": {},
   "outputs": [
    {
     "name": "stdout",
     "output_type": "stream",
     "text": [
      "  Household debt, loans and debt securities (Percent of GDP)     1950  \\\n",
      "0                                                NaN              NaN   \n",
      "1                                              Japan          no data   \n",
      "2                                                NaN              NaN   \n",
      "3                                         ©IMF, 2024              NaN   \n",
      "\n",
      "      1951     1952     1953     1954     1955     1956     1957     1958  \\\n",
      "0      NaN      NaN      NaN      NaN      NaN      NaN      NaN      NaN   \n",
      "1  no data  no data  no data  no data  no data  no data  no data  no data   \n",
      "2      NaN      NaN      NaN      NaN      NaN      NaN      NaN      NaN   \n",
      "3      NaN      NaN      NaN      NaN      NaN      NaN      NaN      NaN   \n",
      "\n",
      "   ...      2013       2014      2015       2016       2017      2018  \\\n",
      "0  ...       NaN        NaN       NaN        NaN        NaN       NaN   \n",
      "1  ...  61.30036  60.757162  59.51991  59.819687  60.284791  61.38317   \n",
      "2  ...       NaN        NaN       NaN        NaN        NaN       NaN   \n",
      "3  ...       NaN        NaN       NaN        NaN        NaN       NaN   \n",
      "\n",
      "       2019      2020       2021       2022  \n",
      "0       NaN       NaN        NaN        NaN  \n",
      "1  62.53287  67.47705  67.840907  68.156508  \n",
      "2       NaN       NaN        NaN        NaN  \n",
      "3       NaN       NaN        NaN        NaN  \n",
      "\n",
      "[4 rows x 74 columns]\n"
     ]
    }
   ],
   "source": [
    "# Retrieving data for Japan's Household Debt (loans and debt securities) as percentage of GDP over time \n",
    "# sources: - IMF: https://www.imf.org/external/datamapper/HH_LS@GDD/JPN?zoom=JPN&highlight=JPN\n",
    "# frequency: annual\n",
    "# time span (year): 1964-2022\n",
    "# dataframe tag: percentage of GDP\n",
    "\n",
    "HD_data = pd.read_csv(r\"C:\\Users\\eland\\Desktop\\Thesis 2\\Datasets\\IMF_JPN_HD.csv\", encoding=\"latin-1\")\n",
    "print(HD_data)"
   ]
  },
  {
   "cell_type": "code",
   "execution_count": 33,
   "metadata": {},
   "outputs": [
    {
     "name": "stdout",
     "output_type": "stream",
     "text": [
      "    Year Household Debt (%GDP)\n",
      "0   1964             19.932795\n",
      "1   1965             21.432581\n",
      "2   1966             22.674186\n",
      "3   1967             23.610043\n",
      "4   1968             24.176209\n",
      "5   1969              25.41754\n",
      "6   1970             25.952257\n",
      "7   1971             28.854622\n",
      "8   1972             31.700362\n",
      "9   1973             34.284801\n",
      "10  1974             33.955575\n",
      "11  1975             35.868303\n",
      "12  1976              37.68261\n",
      "13  1977             38.609718\n",
      "14  1978             40.963874\n",
      "15  1979             43.843564\n",
      "16  1980             45.685288\n",
      "17  1981              46.93491\n",
      "18  1982             48.682366\n",
      "19  1983             51.488192\n",
      "20  1984             52.449061\n",
      "21  1985             52.074586\n",
      "22  1986             53.596904\n",
      "23  1987              59.44024\n",
      "24  1988             61.726283\n",
      "25  1989             66.326252\n",
      "26  1990             68.116139\n",
      "27  1991             67.223457\n",
      "28  1992             67.248368\n",
      "29  1993             68.556313\n",
      "30  1994             69.484252\n",
      "31  1995             70.130399\n",
      "32  1996             69.551705\n",
      "33  1997             69.337753\n",
      "34  1998             69.755138\n",
      "35  1999             71.109071\n",
      "36  2000             69.835556\n",
      "37  2001             68.524354\n",
      "38  2002             67.432004\n",
      "39  2003             66.542982\n",
      "40  2004             64.731492\n",
      "41  2005             62.094031\n",
      "42  2006             61.142362\n",
      "43  2007             59.995731\n",
      "44  2008             60.276517\n",
      "45  2009             63.532533\n",
      "46  2010             61.228361\n",
      "47  2011             61.817533\n",
      "48  2012             61.412228\n",
      "49  2013              61.30036\n",
      "50  2014             60.757162\n",
      "51  2015              59.51991\n",
      "52  2016             59.819687\n",
      "53  2017             60.284791\n",
      "54  2018              61.38317\n",
      "55  2019              62.53287\n",
      "56  2020              67.47705\n",
      "57  2021             67.840907\n",
      "58  2022             68.156508\n"
     ]
    }
   ],
   "source": [
    "# convert the dataframe to pandas dataframe\n",
    "HDdf = pd.DataFrame(HD_data)\n",
    "\n",
    "# dataframe manipulation\n",
    "HDdf = HDdf.transpose()\n",
    "HDdf = HDdf.reset_index(drop=False)\n",
    "HDdf = HDdf.rename(columns={\"index\":\"Year\", 1:\"Household Debt (%GDP)\"})\n",
    "HDdf = HDdf.drop(columns=[0, 2, 3])\n",
    "HDdf = HDdf.drop(index=range(0, 15))\n",
    "HDdf = HDdf.reset_index(drop=True)\n",
    "\n",
    "print(DataFrame(HDdf))"
   ]
  },
  {
   "cell_type": "code",
   "execution_count": 34,
   "metadata": {},
   "outputs": [],
   "source": [
    "# Retrieving data for Japan's cumulative number of years of inflation over the average of OECD countries from 1960 \n",
    "# given data sources' scarsity in API or csv format, we must retrieve and import data manually\n",
    "# sources: - The World Bank: https://data.worldbank.org/indicator/FP.CPI.TOTL.ZG?locations=OE-JP\n",
    "\n",
    "cumnum_inflaboveaverage = [1, 2, 3, 4, 5, 6, 7, 8, 9, 10, 11, 11, 11, 12, 13, 13, 13, 13, 13, 13, 13, 13, 13, 13, 13, 13, 13, 13, 13, 13, 13, 13, 13, 13, 13, 13, 13, 13, 13, 13, 13, 13, 13, 13, 13, 13, 13, 13, 13, 13, 13, 13, 13, 13, 14, 15, 15, 15, 15, 15, 15, 15, 15]\n"
   ]
  },
  {
   "cell_type": "code",
   "execution_count": 35,
   "metadata": {},
   "outputs": [
    {
     "name": "stdout",
     "output_type": "stream",
     "text": [
      "    Year  Years IR>OECD\n",
      "0   1960              1\n",
      "1   1961              2\n",
      "2   1962              3\n",
      "3   1963              4\n",
      "4   1964              5\n",
      "..   ...            ...\n",
      "58  2018             15\n",
      "59  2019             15\n",
      "60  2020             15\n",
      "61  2021             15\n",
      "62  2022             15\n",
      "\n",
      "[63 rows x 2 columns]\n"
     ]
    }
   ],
   "source": [
    "# set the dictionary\n",
    "IAV_data = {\"Year\":list(range(1960, 2023)),\n",
    "         \"Years IR>OECD\": cumnum_inflaboveaverage, \n",
    "         }\n",
    "\n",
    "# convert the dictionary to pandas dataframe\n",
    "IAVdf = pd.DataFrame(IAV_data)\n",
    "\n",
    "# dataframe manipulation\n",
    "IAVdf = IAVdf.reset_index(inplace=False)\n",
    "IAVdf = IAVdf.drop(\"index\", axis=1)\n",
    "IAVdf[\"Year\"] = pd.to_datetime(IAVdf[\"Year\"], format=\"%Y\", errors=\"coerce\")\n",
    "IAVdf[\"Year\"] = IAVdf[\"Year\"].dt.strftime(\"%Y\") \n",
    "\n",
    "print(DataFrame(IAVdf))"
   ]
  },
  {
   "cell_type": "code",
   "execution_count": 36,
   "metadata": {},
   "outputs": [
    {
     "name": "stdout",
     "output_type": "stream",
     "text": [
      "                   0\n",
      "1971-01-01  358.0200\n",
      "1971-02-01  357.5450\n",
      "1971-03-01  357.5187\n",
      "1971-04-01  357.5032\n",
      "1971-05-01  357.4130\n"
     ]
    }
   ],
   "source": [
    "# Retrieving data for Japanese Yen to U.S. Dollar Spot Exchange Rate \n",
    "# sources: - FRED: https://fred.stlouisfed.org/series/EXJPUS \n",
    "# frequency: annual\n",
    "# time span (year): 1971-2024\n",
    "# dataframe tag: Japanese Yen\n",
    "\n",
    "YEN_data = fred.get_series(\"EXJPUS\")\n",
    "YEN_data = YEN_data.to_frame()\n",
    "print(YEN_data.head())"
   ]
  },
  {
   "cell_type": "code",
   "execution_count": 37,
   "metadata": {},
   "outputs": [
    {
     "name": "stdout",
     "output_type": "stream",
     "text": [
      "    Year  Yen-USD Spot Exchange\n",
      "0   1971             348.046017\n",
      "1   1972             303.112367\n",
      "2   1973             271.397792\n",
      "3   1974             291.941217\n",
      "4   1975             296.766325\n",
      "5   1976             296.477983\n",
      "6   1977             268.381317\n",
      "7   1978             210.458808\n",
      "8   1979             219.214533\n",
      "9   1980             226.576875\n",
      "10  1981             220.449467\n",
      "11  1982             249.051108\n",
      "12  1983             237.445133\n",
      "13  1984             237.586700\n",
      "14  1985             238.471942\n",
      "15  1986             168.499117\n",
      "16  1987             144.622917\n",
      "17  1988             128.142600\n",
      "18  1989             137.994708\n",
      "19  1990             144.818167\n",
      "20  1991             134.507742\n",
      "21  1992             126.747042\n",
      "22  1993             111.231417\n",
      "23  1994             102.195258\n",
      "24  1995              94.105783\n",
      "25  1996             108.804842\n",
      "26  1997             121.094650\n",
      "27  1998             130.818200\n",
      "28  1999             113.713167\n",
      "29  2000             107.821308\n",
      "30  2001             121.519267\n",
      "31  2002             125.266875\n",
      "32  2003             115.916642\n",
      "33  2004             108.156925\n",
      "34  2005             110.138392\n",
      "35  2006             116.349758\n",
      "36  2007             117.765483\n",
      "37  2008             103.379350\n",
      "38  2009              93.599550\n",
      "39  2010              87.750225\n",
      "40  2011              79.711717\n",
      "41  2012              79.810792\n",
      "42  2013              97.561683\n",
      "43  2014             105.856642\n",
      "44  2015             121.018267\n",
      "45  2016             108.757175\n",
      "46  2017             112.136933\n",
      "47  2018             110.430842\n",
      "48  2019             109.028067\n",
      "49  2020             106.764567\n",
      "50  2021             109.773000\n",
      "51  2022             131.462675\n"
     ]
    }
   ],
   "source": [
    "# convert the dataframe to pandas dataframe\n",
    "YENdf = pd.DataFrame(YEN_data)\n",
    "\n",
    "# dataframe manipulation\n",
    "YENdf.reset_index(inplace=True)\n",
    "YENdf = YENdf.rename(columns={\"index\":\"Year\", 0: \"Yen-USD Spot Exchange\"})\n",
    "\n",
    "# from monthly frequency to annual\n",
    "YENdf[\"Year\"] = pd.to_datetime(YENdf[\"Year\"], format=\"%Y\", errors=\"coerce\")\n",
    "YENdf[\"Year\"] = YENdf[\"Year\"].dt.strftime(\"%Y\")\n",
    "YENdf = YENdf.groupby(\"Year\").mean()\n",
    "\n",
    "# dataframe time span corrections\n",
    "YENdf = YENdf.reset_index(inplace=False)\n",
    "YENdf = YENdf.drop(index=[53, 52])\n",
    "print(DataFrame(YENdf))"
   ]
  },
  {
   "cell_type": "markdown",
   "metadata": {},
   "source": [
    "### **Data merging**"
   ]
  },
  {
   "cell_type": "code",
   "execution_count": 38,
   "metadata": {},
   "outputs": [],
   "source": [
    "import pandas as pd\n",
    "from pandas import DataFrame "
   ]
  },
  {
   "cell_type": "code",
   "execution_count": 39,
   "metadata": {},
   "outputs": [
    {
     "name": "stdout",
     "output_type": "stream",
     "text": [
      "    Year S&P credit rating  Numerical Index  Inflation Rate  \\\n",
      "0   1960               BBB               68        3.574512   \n",
      "1   1961               BBB               68        5.368462   \n",
      "2   1962               BBB               68        6.835440   \n",
      "3   1963               BBB               68        6.706906   \n",
      "4   1964               BBB               68        3.800389   \n",
      "..   ...               ...              ...             ...   \n",
      "58  2018                A+               84        0.989095   \n",
      "59  2019                A+               84        0.468776   \n",
      "60  2020                A+               84       -0.024996   \n",
      "61  2021                A+               84       -0.233353   \n",
      "62  2022                A+               84        2.497703   \n",
      "\n",
      "    G7 Average Inflation Rate  JPN-G7 Inflation Gap  \\\n",
      "0                    2.203067              1.371445   \n",
      "1                    2.521468              2.846994   \n",
      "2                    3.736855              3.098586   \n",
      "3                    3.859159              2.847747   \n",
      "4                    3.104612              0.695778   \n",
      "..                        ...                   ...   \n",
      "58                   1.819568             -0.830473   \n",
      "59                   1.299077             -0.830301   \n",
      "60                   0.489951             -0.514947   \n",
      "61                   2.859195             -3.092548   \n",
      "62                   7.179457             -4.681754   \n",
      "\n",
      "    Years of Default/Restructuring  Years since last Default/Restructuring  \\\n",
      "0                                0                                       1   \n",
      "1                                0                                       2   \n",
      "2                                0                                       3   \n",
      "3                                0                                       4   \n",
      "4                                0                                       5   \n",
      "..                             ...                                     ...   \n",
      "58                              21                                      23   \n",
      "59                              21                                      24   \n",
      "60                              21                                      25   \n",
      "61                              21                                      26   \n",
      "62                              21                                      27   \n",
      "\n",
      "    Political Continuity/Stability Score Public Debt (%GDP)  \n",
      "0                                      1          10.427302  \n",
      "1                                      1           8.451823  \n",
      "2                                      3            9.02589  \n",
      "3                                      4           8.667781  \n",
      "4                                      5           8.536577  \n",
      "..                                   ...                ...  \n",
      "58                                     6         232.386265  \n",
      "59                                     7          236.43071  \n",
      "60                                     8         258.708613  \n",
      "61                                     8         255.394024  \n",
      "62                                     9          261.28881  \n",
      "\n",
      "[63 rows x 10 columns]\n"
     ]
    }
   ],
   "source": [
    "# sequential merging of single datasets in order to obtain a final unique dataframe easier to handle for our research purposes \n",
    "merged_df1 = pd.merge(SPdf, CPIdf, on=\"Year\", how=\"outer\")\n",
    "merged_df2 = pd.merge(merged_df1, IRG7df, on=\"Year\", how=\"outer\")\n",
    "merged_df3 = pd.merge(merged_df2, DRdf, on=\"Year\", how=\"outer\")\n",
    "merged_df4 = pd.merge(merged_df3, LDRdf, on=\"Year\", how=\"outer\")\n",
    "merged_df5 = pd.merge(merged_df4, PCSdf, on=\"Year\", how=\"outer\")\n",
    "DITdf = pd.merge(merged_df5, DGDPdf, on=\"Year\", how=\"outer\")\n",
    "\n",
    "# convert the dataframe to pandas dataframe\n",
    "DITdf = pd.DataFrame(DITdf)\n",
    "\n",
    "print(DataFrame(DITdf))"
   ]
  },
  {
   "cell_type": "markdown",
   "metadata": {},
   "source": [
    "### **Stationarity tests and corrections**"
   ]
  },
  {
   "cell_type": "code",
   "execution_count": 40,
   "metadata": {},
   "outputs": [],
   "source": [
    "import pandas as pd\n",
    "from pandas import DataFrame \n",
    "import numpy as np\n",
    "import matplotlib.pyplot as plt\n",
    "from matplotlib.ticker import MultipleLocator\n",
    "from statsmodels.tsa.stattools import adfuller\n",
    "from statsmodels.tsa.stattools import kpss"
   ]
  },
  {
   "cell_type": "code",
   "execution_count": 41,
   "metadata": {},
   "outputs": [],
   "source": [
    "# In our empirical model we have historical data for two variables, which are exposed to non-stationarity risks: Inflation Rate and Public Debt (%GDP). \n",
    "# In order to cope with our concerns, we will run Augmented Dickey-Fuller (ADF) and KPSS tests on both our variables' data to assess whether eventual corrections must be taken into account, or, whether our data are already sufficiently robust. \n",
    "# Since our dataframe's frequency is annual, we hold that seasonal dynamics do not interfer with our empirical analysis. "
   ]
  },
  {
   "cell_type": "markdown",
   "metadata": {},
   "source": [
    "##### 1) Inflation Rate "
   ]
  },
  {
   "cell_type": "code",
   "execution_count": 42,
   "metadata": {},
   "outputs": [
    {
     "name": "stdout",
     "output_type": "stream",
     "text": [
      "ADF Test result-Inflation Rate: (-2.7047087844566997, 0.07322698212606524, 0, 62, {'1%': -3.540522678829176, '5%': -2.9094272025108254, '10%': -2.5923136524453696}, 248.79481669076102)\n",
      "ADF Test stastic-Inflation Rate: -2.7047087844566997\n",
      "ADF p-value-Inflation Rate: 0.07322698212606524\n",
      "KPSS Test result-Inflation Rate: (0.8350622987241958, 0.01, 4, {'10%': 0.347, '5%': 0.463, '2.5%': 0.574, '1%': 0.739})\n",
      "KPSS Test stastic-Inflation Rate: 0.8350622987241958\n",
      "KPSS p-value-Inflation Rate: 0.01\n"
     ]
    },
    {
     "name": "stderr",
     "output_type": "stream",
     "text": [
      "C:\\Users\\eland\\AppData\\Local\\Temp\\ipykernel_15076\\4265573381.py:12: InterpolationWarning: The test statistic is outside of the range of p-values available in the\n",
      "look-up table. The actual p-value is smaller than the p-value returned.\n",
      "\n",
      "  KPSS_IR_result = kpss(DITdf[\"Inflation Rate\"])\n"
     ]
    }
   ],
   "source": [
    "# performing ADF on Inflation Rate data (the null hypothesis assumes that there exists at least one uni-root, which is an highy probable indicator of non-stationarity)\n",
    "ADF_IR_result = adfuller(DITdf[\"Inflation Rate\"])\n",
    "ADF_IR_test_statistic = ADF_IR_result[0]\n",
    "ADF_IR_p_value = ADF_IR_result[1] \n",
    "\n",
    "print(\"ADF Test result-Inflation Rate:\", ADF_IR_result)\n",
    "print(\"ADF Test stastic-Inflation Rate:\", ADF_IR_test_statistic)\n",
    "print(\"ADF p-value-Inflation Rate:\", ADF_IR_p_value)\n",
    "# the ADF test statistic is approximately -2.70, with a p-value of 0.073. This suggests weak evidence against the null hypothesis, indicating that our data may not be stationary.\n",
    "\n",
    "# performing KPSS on Inflation Rate data (opposite null hypothesis, we assume the data is stationary and follows a deterministic trend)\n",
    "KPSS_IR_result = kpss(DITdf[\"Inflation Rate\"])\n",
    "KPSS_IR_test_statistic = KPSS_IR_result[0]\n",
    "KPSS_IR_p_value = KPSS_IR_result[1]\n",
    "\n",
    "print(\"KPSS Test result-Inflation Rate:\", KPSS_IR_result)\n",
    "print(\"KPSS Test stastic-Inflation Rate:\", KPSS_IR_test_statistic)\n",
    "print(\"KPSS p-value-Inflation Rate:\", KPSS_IR_p_value)\n",
    "# the KPSS test statistic is approximately 0.84, with a p-value of 0.01. This indicates strong evidence against the null hypothesis of stationarity.\n",
    "\n",
    "# However, as predictable and well-shown by our data plotting, this tested non-stationarity of our data is largely a consequence of the change in inflation target policies set by the BoJ over time and not to intrisic and systematic variations of the phenomena. \n",
    "# Especially in the post-WWII aftermath very few regulations on inflation management were set to foster economic growth and investments, but the approaching of the new millenium it is clear to notice how the BoJ monetary policy alligned with one alredy followed by the main advanced economies across America and Europe.\n",
    "# Ultimately, the 2% inflation target was officially set by the BoJ on 2013, marking a significant commitment to continue with a severe inflation management. \n",
    "# A quite straightforward, as well as effective, way to handle with this issue is to breakdown data into segments of time to isolate to a certain extent these variations in mean and std over time. Three segments were identified: from 1960 to 1985, from 1985 to 2000 and from 2000 to 2022. "
   ]
  },
  {
   "cell_type": "code",
   "execution_count": 43,
   "metadata": {},
   "outputs": [
    {
     "data": {
      "image/png": "[encoded data removed]",
      "text/plain": [
       "<Figure size 1000x600 with 1 Axes>"
      ]
     },
     "metadata": {},
     "output_type": "display_data"
    }
   ],
   "source": [
    "# Stats plotting for Inflation Rate \n",
    "\n",
    "# Global dataset \n",
    "plt.figure(figsize=(10, 6))\n",
    "plt.fill_between(DITdf[\"Year\"], DITdf[\"Inflation Rate\"], color=\"midnightblue\", linestyle=\"-\", label=\"Japan Inflation Rate\")\n",
    "\n",
    "# G7 average inflation trend\n",
    "plt.fill_between(DITdf[\"Year\"], DITdf[\"G7 Average Inflation Rate\"], color=\"cornflowerblue\", linestyle=\"-\", alpha=0.3, label=\"G7 Average Inflation Rate\")\n",
    "\n",
    "# Global dataset stats\n",
    "IR_mean = np.mean(DITdf[\"Inflation Rate\"])\n",
    "IR_std = np.std(DITdf[\"Inflation Rate\"])\n",
    "plt.axhline(IR_mean, color=\"blue\", linestyle=\"-\", label=\"Mean [1960-2022]\")\n",
    "plt.axhline(IR_mean + IR_std, color=\"blue\", linestyle=\"--\", label=\"Mean +- Std Dev [1960-2022]\")\n",
    "plt.axhline(IR_mean - IR_std, color=\"blue\", linestyle=\"--\")\n",
    "\n",
    "# Graph settings\n",
    "plt.style.use(\"default\")\n",
    "ax = plt.gca()\n",
    "ax.xaxis.set_major_locator(MultipleLocator(3)) \n",
    "plt.xticks(rotation=45)\n",
    "plt.title(\"Japan's Inflation Rate over time\")\n",
    "plt.xlabel(\"Year\")\n",
    "plt.ylabel(\"Inflation Rate (%g CPI, annual)\")\n",
    "plt.xlim(DITdf[\"Year\"].min(), DITdf[\"Year\"].max())\n",
    "\n",
    "# Segmented dataset stats\n",
    "# we segment the global dataset for inflation rate to better highlight the evidence of a change in mean (and std) over time, that cause our data to be globally non-stationary, due to the introduction by the BoJ of new inflation tragets, particularly the 2% target officially set on 2013.\n",
    "DITdf1 = DITdf.copy() \n",
    "DITdf1[\"Year\"] = pd.to_datetime(DITdf1[\"Year\"], format=\"%Y\", errors=\"coerce\")\n",
    "\n",
    "IR_mean1960to1985 = np.mean(DITdf1.loc[(DITdf1[\"Year\"].dt.year >= 1960) & (DITdf1[\"Year\"].dt.year <= 1985), \"Inflation Rate\"])\n",
    "IR_mean1985to2000 = np.mean(DITdf1.loc[(DITdf1[\"Year\"].dt.year >= 1985) & (DITdf1[\"Year\"].dt.year <= 2000), \"Inflation Rate\"])\n",
    "IR_mean2000to2022 = np.mean(DITdf1.loc[(DITdf1[\"Year\"].dt.year >= 2000) & (DITdf1[\"Year\"].dt.year <= 2022), \"Inflation Rate\"])\n",
    "IR_std1960to1985 = np.std(DITdf1.loc[(DITdf1[\"Year\"].dt.year >= 1960) & (DITdf1[\"Year\"].dt.year <= 1985), \"Inflation Rate\"])\n",
    "IR_std1985to2000 = np.std(DITdf1.loc[(DITdf1[\"Year\"].dt.year >= 1985) & (DITdf1[\"Year\"].dt.year <= 2000), \"Inflation Rate\"])\n",
    "IR_std2000to2022 = np.std(DITdf1.loc[(DITdf1[\"Year\"].dt.year >= 2000) & (DITdf1[\"Year\"].dt.year <= 2022), \"Inflation Rate\"])\n",
    "\n",
    "plt.axhline(IR_mean1960to1985, color=\"slategrey\", linestyle=\"-\", label=\"Mean [1960-1985]\")\n",
    "plt.axhline(IR_mean1960to1985 + IR_std1960to1985, color=\"slategrey\", linestyle=\"--\", label=\"Mean +- Std Dev [1960-1985]\")\n",
    "plt.axhline(IR_mean1960to1985 - IR_std1960to1985, color=\"slategrey\", linestyle=\"--\")\n",
    "\n",
    "plt.axhline(IR_mean1985to2000, color=\"darkorange\", linestyle=\"-\", label=\"Mean [1985-2000]\")\n",
    "plt.axhline(IR_mean1985to2000 + IR_std1985to2000, color=\"darkorange\", linestyle=\"--\", label=\"Mean +- Std Dev [1985-2000]\")\n",
    "plt.axhline(IR_mean1985to2000 - IR_std1985to2000, color=\"darkorange\", linestyle=\"--\")\n",
    "\n",
    "plt.axhline(IR_mean2000to2022, color=\"gold\", linestyle=\"-\", label=\"Mean [2000-2022]\")\n",
    "plt.axhline(IR_mean2000to2022 + IR_std2000to2022, color=\"gold\", linestyle=\"--\", label=\"Mean +- Std Dev [2000-2022]\")\n",
    "plt.axhline(IR_mean2000to2022 - IR_std2000to2022, color=\"gold\", linestyle=\"--\")\n",
    "\n",
    "\n",
    "plt.legend()\n",
    "plt.show()\n",
    "\n",
    "# As the graph displays, there is clear evidence of statistically significant changes in mean and std especially between the first cluster (1960-1985) and the two other segments (1985-2000 & 2000-2022). \n",
    "# In particular, over the 2013 threshold, there exists a clear reverting tendency of the mean towards values close to the BoJ inflation target (2%). "
   ]
  },
  {
   "cell_type": "code",
   "execution_count": 44,
   "metadata": {},
   "outputs": [
    {
     "name": "stdout",
     "output_type": "stream",
     "text": [
      "ADF Test result-Inflation Rate: (-3.098415628336721, 0.026670661478797427, 0, 22, {'1%': -3.769732625845229, '5%': -3.005425537190083, '10%': -2.6425009917355373}, 40.20783631774414)\n",
      "ADF Test stastic-Inflation Rate: -3.098415628336721\n",
      "ADF p-value-Inflation Rate: 0.026670661478797427\n",
      "KPSS Test result-Inflation Rate: (0.5132514356749432, 0.03868210908221999, 1, {'10%': 0.347, '5%': 0.463, '2.5%': 0.574, '1%': 0.739})\n",
      "KPSS Test stastic-Inflation Rate: 0.5132514356749432\n",
      "KPSS p-value-Inflation Rate: 0.03868210908221999\n"
     ]
    }
   ],
   "source": [
    "# Additional evidence: rerunning ADF & KPSS over the segment 2000-2013\n",
    "# performing ADF \n",
    "ADF_IR_result_2000to2022 = adfuller(DITdf1.loc[(DITdf1[\"Year\"].dt.year >= 2000) & (DITdf1[\"Year\"].dt.year <= 2022), \"Inflation Rate\"])\n",
    "ADF_IR_test_statistic_2000to2022 = ADF_IR_result_2000to2022[0]\n",
    "ADF_IR_p_value_2000to2022 = ADF_IR_result_2000to2022[1] \n",
    "\n",
    "print(\"ADF Test result-Inflation Rate:\", ADF_IR_result_2000to2022)\n",
    "print(\"ADF Test stastic-Inflation Rate:\", ADF_IR_test_statistic_2000to2022)\n",
    "print(\"ADF p-value-Inflation Rate:\", ADF_IR_p_value_2000to2022)\n",
    "# not surprisingly, the ADF test statistic for the Inflation Rate is approximately -3.10, with a p-value of 0.027, suggesting strong evidence against the null hypothesis of non-stationarity.\n",
    "\n",
    "# performing KPSS\n",
    "KPSS_IR_result_2000to2022 = kpss(DITdf1.loc[(DITdf1[\"Year\"].dt.year >= 2000) & (DITdf1[\"Year\"].dt.year <= 2022), \"Inflation Rate\"])\n",
    "KPSS_IR_test_statistic_2000to2022 = KPSS_IR_result_2000to2022[0]\n",
    "KPSS_IR_p_value_2000to2022 = KPSS_IR_result_2000to2022[1]\n",
    "\n",
    "print(\"KPSS Test result-Inflation Rate:\", KPSS_IR_result_2000to2022)\n",
    "print(\"KPSS Test stastic-Inflation Rate:\", KPSS_IR_test_statistic_2000to2022)\n",
    "print(\"KPSS p-value-Inflation Rate:\", KPSS_IR_p_value_2000to2022)\n",
    "# the KPSS test statistic is approximately 0.51, with a p-value of 0.039, indicating weak evidence against the null hypothesis of stationarity. "
   ]
  },
  {
   "cell_type": "markdown",
   "metadata": {},
   "source": [
    "##### 2) Public Debt (%GDP)"
   ]
  },
  {
   "cell_type": "code",
   "execution_count": 45,
   "metadata": {},
   "outputs": [
    {
     "name": "stdout",
     "output_type": "stream",
     "text": [
      "ADF Test result-Public Debt: (1.1848981159999812, 0.995879864498321, 1, 61, {'1%': -3.542412746661615, '5%': -2.910236235808284, '10%': -2.5927445767266866}, 316.8708651085588)\n",
      "ADF Test stastic-Public Debt: 1.1848981159999812\n",
      "ADF p-value-Public Debt: 0.995879864498321\n",
      "KPSS Test result-Public Debt: (1.105391651324179, 0.01, 5, {'10%': 0.347, '5%': 0.463, '2.5%': 0.574, '1%': 0.739})\n",
      "KPSS Test stastic-Public Debt: 1.105391651324179\n",
      "KPSS p-value-Public Debt: 0.01\n"
     ]
    },
    {
     "name": "stderr",
     "output_type": "stream",
     "text": [
      "C:\\Users\\eland\\AppData\\Local\\Temp\\ipykernel_15076\\1909309715.py:12: InterpolationWarning: The test statistic is outside of the range of p-values available in the\n",
      "look-up table. The actual p-value is smaller than the p-value returned.\n",
      "\n",
      "  KPSS_PD_result = kpss(DITdf[\"Public Debt (%GDP)\"])\n"
     ]
    }
   ],
   "source": [
    "# performing ADF on Public Debt data (the null hypothesis assumes that there exists at least one uni-root, which is an highy probable indicator of non-stationarity)\n",
    "ADF_PD_result = adfuller(DITdf[\"Public Debt (%GDP)\"])\n",
    "ADF_PD_test_statistic = ADF_PD_result[0]\n",
    "ADF_PD_p_value = ADF_PD_result[1] \n",
    "\n",
    "print(\"ADF Test result-Public Debt:\", ADF_PD_result)\n",
    "print(\"ADF Test stastic-Public Debt:\", ADF_PD_test_statistic)\n",
    "print(\"ADF p-value-Public Debt:\", ADF_PD_p_value)\n",
    "# the ADF test yielded a test statistic of 1.1849 and a p-value of 0.9959. With such a high p-value, we fail to reject the null hypothesis of non-stationarity, indicating that the series likely contains a unit root.\n",
    "\n",
    "# performing KPSS on Public Debt data (opposite null hypothesis, we assume the data is stationary and follows a deterministic trend)\n",
    "KPSS_PD_result = kpss(DITdf[\"Public Debt (%GDP)\"])\n",
    "KPSS_PD_test_statistic = KPSS_PD_result[0]\n",
    "KPSS_PD_p_value = KPSS_PD_result[1]\n",
    "\n",
    "print(\"KPSS Test result-Public Debt:\", KPSS_PD_result)\n",
    "print(\"KPSS Test stastic-Public Debt:\", KPSS_PD_test_statistic)\n",
    "print(\"KPSS p-value-Public Debt:\", KPSS_PD_p_value)\n",
    "# the KPSS test returned a test statistic of 1.1054 and a p-value of 0.01. Here, we reject the null hypothesis of stationarity in favor of the alternative, suggesting the presence of a trend.\n",
    "\n",
    "# As predictable by a widespread historical tendency among advanced economies, this strong tested non-stationarity of our data is to be attributed to the evidence of a positive-sloped trend, non-statistically negligible. \n",
    "# The data plotting unequivocally confirmes what tests alredy suggested, pushing for resorting to detrending corrections. It is worth to notice that the causes of what we observe must be saught in macroeconomic policy and financial trends observed in the post-WWII aftermath adn yearly 2000s."
   ]
  },
  {
   "cell_type": "code",
   "execution_count": 46,
   "metadata": {},
   "outputs": [
    {
     "data": {
      "image/png": "[encoded data removed]",
      "text/plain": [
       "<Figure size 1000x600 with 1 Axes>"
      ]
     },
     "metadata": {},
     "output_type": "display_data"
    }
   ],
   "source": [
    "# Stats plotting for Public Debt (%GDP)\n",
    "plt.figure(figsize=(10, 6))\n",
    "DITdf[\"Public Debt (%GDP)\"] = pd.to_numeric(DITdf[\"Public Debt (%GDP)\"], errors=\"coerce\")\n",
    "plt.fill_between(DITdf[\"Year\"], DITdf[\"Public Debt (%GDP)\"], color=\"midnightblue\", linestyle=\"-\", label=\"Public Debt\")\n",
    "\n",
    "# Additional data\n",
    "CGDdf[\"Central Government Debt (%GDP)\"] = pd.to_numeric(CGDdf[\"Central Government Debt (%GDP)\"], errors=\"coerce\")\n",
    "plt.fill_between(CGDdf[\"Year\"], CGDdf[\"Central Government Debt (%GDP)\"], color=\"darkblue\", linestyle=\"-\", label=\"Central Government Debt\")\n",
    "GRdf[\"Government Revenue (%GDP)\"] = pd.to_numeric(GRdf[\"Government Revenue (%GDP)\"], errors=\"coerce\")\n",
    "plt.plot(GRdf[\"Year\"], GRdf[\"Government Revenue (%GDP)\"], color=\"coral\", linestyle=\"-\", label=\"Government Revenue\")\n",
    "HDdf[\"Household Debt (%GDP)\"] = pd.to_numeric(HDdf[\"Household Debt (%GDP)\"], errors=\"coerce\")\n",
    "plt.fill_between(HDdf[\"Year\"], HDdf[\"Household Debt (%GDP)\"], color=\"cornflowerblue\", linestyle=\"-\", alpha=0.3, label=\"Household Debt\")\n",
    "\n",
    "# Graph settings\n",
    "plt.style.use(\"default\")\n",
    "ax = plt.gca()\n",
    "ax.xaxis.set_major_locator(MultipleLocator(3)) \n",
    "plt.xticks(rotation=45)\n",
    "plt.title(\"Japan's Gross Public Debt (internal & external) data stats\")\n",
    "plt.xlabel(\"Year\")\n",
    "plt.ylabel(\"Debt (%GDP, annual)\")\n",
    "plt.grid(axis=\"y\", linestyle=\"--\", linewidth=0.5, color=\"black\")\n",
    "plt.xlim(DITdf[\"Year\"].min(), DITdf[\"Year\"].max())\n",
    "\n",
    "\n",
    "plt.legend(loc=\"upper left\")\n",
    "plt.show()"
   ]
  },
  {
   "cell_type": "code",
   "execution_count": 47,
   "metadata": {},
   "outputs": [
    {
     "name": "stdout",
     "output_type": "stream",
     "text": [
      "    Detrended Public Debt (%GDP)\n",
      "0                            NaN\n",
      "1                            NaN\n",
      "2                            NaN\n",
      "3                            NaN\n",
      "4                      -0.485298\n",
      "..                           ...\n",
      "58                      0.844918\n",
      "59                      4.260487\n",
      "60                     20.453696\n",
      "61                     12.546234\n",
      "62                     12.447126\n",
      "\n",
      "[63 rows x 1 columns]\n"
     ]
    }
   ],
   "source": [
    "# Detrending corrections: moving average\n",
    "\n",
    "# Calculate moving average (with a window size of 5 years)\n",
    "window_size = 5 \n",
    "DITdf[\"Public Debt Moving Average (%GDP)\"] = DITdf[\"Public Debt (%GDP)\"].rolling(window=window_size).mean()\n",
    "DITdf[\"Detrended Public Debt (%GDP)\"] = DITdf[\"Public Debt (%GDP)\"] - DITdf[\"Public Debt Moving Average (%GDP)\"]\n",
    "\n",
    "print(DataFrame(DITdf[\"Detrended Public Debt (%GDP)\"]))"
   ]
  },
  {
   "cell_type": "code",
   "execution_count": 94,
   "metadata": {},
   "outputs": [
    {
     "data": {
      "image/png": "[encoded data removed]",
      "text/plain": [
       "<Figure size 1000x600 with 1 Axes>"
      ]
     },
     "metadata": {},
     "output_type": "display_data"
    }
   ],
   "source": [
    "# Detrended data plotting\n",
    "plt.figure(figsize=(10, 6))\n",
    "DITdf[\"Public Debt (%GDP)\"] = pd.to_numeric(DITdf[\"Public Debt (%GDP)\"], errors=\"coerce\")\n",
    "plt.fill_between(DITdf[\"Year\"], DITdf[\"Public Debt (%GDP)\"], color=\"midnightblue\", linestyle=\"-\", label=\"Public Debt\")\n",
    "\n",
    "DITdf[\"Detrended Public Debt (%GDP)\"] = pd.to_numeric(DITdf[\"Detrended Public Debt (%GDP)\"], errors=\"coerce\")\n",
    "plt.fill_between(DITdf[\"Year\"], DITdf[\"Detrended Public Debt (%GDP)\"], color=\"lightsteelblue\", linestyle=\"-\", label=\"Detrended Public Debt\")\n",
    "DITdf[\"Public Debt Moving Average (%GDP)\"] = pd.to_numeric(DITdf[\"Public Debt Moving Average (%GDP)\"], errors=\"coerce\")\n",
    "plt.plot(DITdf[\"Year\"], DITdf[\"Public Debt Moving Average (%GDP)\"], color=\"gold\", linestyle=\"-\", label=\"Moving Average (w=5 years)\")\n",
    "\n",
    "# Graph settings\n",
    "plt.style.use(\"default\")\n",
    "ax = plt.gca()\n",
    "ax.xaxis.set_major_locator(MultipleLocator(3)) \n",
    "plt.xticks(rotation=45)\n",
    "plt.title(\"Japan's Gross Public Debt (internal & external) detrended data\")\n",
    "plt.xlabel(\"Year\")\n",
    "plt.ylabel(\"Debt (%GDP, annual)\")\n",
    "plt.grid(axis=\"y\", linestyle=\"--\", linewidth=0.5, color=\"black\")\n",
    "plt.xlim(DITdf[\"Year\"].min(), DITdf[\"Year\"].max())\n",
    "\n",
    "\n",
    "plt.legend(loc=\"upper left\")\n",
    "plt.show()"
   ]
  },
  {
   "cell_type": "code",
   "execution_count": 49,
   "metadata": {},
   "outputs": [
    {
     "name": "stdout",
     "output_type": "stream",
     "text": [
      "ADF Test result-Detrended Public Debt: (-3.2479155049534905, 0.0173733588542922, 2, 56, {'1%': -3.552928203580539, '5%': -2.9147306250000002, '10%': -2.595137155612245}, 273.79351279687467)\n",
      "ADF Test stastic-Detrended Public Debt: -3.2479155049534905\n",
      "ADF p-value-Detrended Public Debt: 0.0173733588542922\n",
      "KPSS Test result-Detrended Public Debt: (0.4227872901514822, 0.06733306458987837, 4, {'10%': 0.347, '5%': 0.463, '2.5%': 0.574, '1%': 0.739})\n",
      "KPSS Test stastic-Detrended Public Debt: 0.4227872901514822\n",
      "KPSS p-value-Detrended Public Debt: 0.06733306458987837\n"
     ]
    }
   ],
   "source": [
    "# Additional evidence: rerunning ADF & KPSS on detrended data\n",
    "# remove NaNs within the dataframe \n",
    "PDD_data = DITdf[\"Detrended Public Debt (%GDP)\"]\n",
    "PDD_clean = PDD_data.dropna()\n",
    "\n",
    "# performing ADF \n",
    "ADF_PDD_result = adfuller(PDD_clean)\n",
    "ADF_PDD_test_statistic = ADF_PDD_result[0]\n",
    "ADF_PDD_p_value = ADF_PDD_result[1] \n",
    "\n",
    "print(\"ADF Test result-Detrended Public Debt:\", ADF_PDD_result)\n",
    "print(\"ADF Test stastic-Detrended Public Debt:\", ADF_PDD_test_statistic)\n",
    "print(\"ADF p-value-Detrended Public Debt:\", ADF_PDD_p_value)\n",
    "# as expected, with a test statistic of -3.2479, we reject the null hypothesis of non-stationarity at the 5% significance level (p-value = 0.0173), indicating evidence of stationarity in the detrended public debt data.\n",
    "\n",
    "# performing KPSS\n",
    "KPSS_PDD_result = kpss(PDD_clean)\n",
    "KPSS_PDD_test_statistic = KPSS_PDD_result[0]\n",
    "KPSS_PDD_p_value = KPSS_PDD_result[1]\n",
    "\n",
    "print(\"KPSS Test result-Detrended Public Debt:\", KPSS_PDD_result)\n",
    "print(\"KPSS Test stastic-Detrended Public Debt:\", KPSS_PDD_test_statistic)\n",
    "print(\"KPSS p-value-Detrended Public Debt:\", KPSS_PDD_p_value)\n",
    "#  equally, with a test statistic of 0.4228 and a p-value of 0.0673, we fail to reject the null hypothesis of stationarity at the 5% significance level, leading to confirm that there is weak evidence against the null hypothesis of stationarity in the detrended data. "
   ]
  },
  {
   "cell_type": "markdown",
   "metadata": {},
   "source": [
    "### **Data plotting**"
   ]
  },
  {
   "cell_type": "code",
   "execution_count": 50,
   "metadata": {},
   "outputs": [],
   "source": [
    "import pandas as pd\n",
    "from pandas import DataFrame \n",
    "import numpy as np\n",
    "import matplotlib.pyplot as plt\n",
    "from matplotlib.ticker import MultipleLocator"
   ]
  },
  {
   "cell_type": "code",
   "execution_count": 51,
   "metadata": {},
   "outputs": [
    {
     "data": {
      "image/png": "[encoded data removed]",
      "text/plain": [
       "<Figure size 1000x600 with 2 Axes>"
      ]
     },
     "metadata": {},
     "output_type": "display_data"
    }
   ],
   "source": [
    "# Creditworthiness and political stability score data plotting\n",
    "fig, ax1 = plt.subplots(figsize=(10, 6))\n",
    "DITdf[\"Numerical Index\"] = pd.to_numeric(DITdf[\"Numerical Index\"], errors=\"coerce\")\n",
    "ax1.plot(DITdf[\"Year\"], DITdf[\"Numerical Index\"], color=\"coral\", linestyle=\"-\", label=\"S&P credit rating (num)\")\n",
    "\n",
    "ax2 = ax1.twinx()\n",
    "DITdf[\"Political Continuity/Stability Score\"] = pd.to_numeric(DITdf[\"Political Continuity/Stability Score\"], errors=\"coerce\")\n",
    "ax2.plot(DITdf[\"Year\"], DITdf[\"Political Continuity/Stability Score\"], color=\"midnightblue\", linestyle=\"-\", label=\"Political Continuity/Stability Score\")\n",
    "\n",
    "# Graph settings\n",
    "plt.style.use(\"default\")\n",
    "ax = plt.gca()\n",
    "ax.xaxis.set_major_locator(MultipleLocator(5)) \n",
    "ax1.tick_params(axis=\"x\", rotation=45)\n",
    "plt.title(\"Creditworthiness and political stability scores over time\")\n",
    "plt.xlabel(\"Year\")\n",
    "ax1.set_ylabel(\"S&P credit rating (numerical, annual)\")\n",
    "ax2.set_ylabel(\"Political Continuity/Stability Score (annual)\")\n",
    "ax1.set_ylim(0, 110) \n",
    "ax2.set_ylim(0, 30) \n",
    "plt.grid(axis=\"y\", linestyle=\"--\", linewidth=0.5, color=\"black\")\n",
    "plt.xlim(DITdf[\"Year\"].min(), DITdf[\"Year\"].max())\n",
    "\n",
    "lines1, labels1 = ax1.get_legend_handles_labels()\n",
    "lines2, labels2 = ax2.get_legend_handles_labels()\n",
    "ax1.legend(lines1 + lines2, labels1 + labels2, loc=\"lower center\")\n",
    "plt.show()"
   ]
  },
  {
   "cell_type": "markdown",
   "metadata": {},
   "source": [
    "### **Model Specification**"
   ]
  },
  {
   "cell_type": "code",
   "execution_count": 52,
   "metadata": {},
   "outputs": [],
   "source": [
    "import pandas as pd\n",
    "from pandas import DataFrame \n",
    "import numpy as np\n",
    "import statsmodels.api as sm"
   ]
  },
  {
   "cell_type": "code",
   "execution_count": 53,
   "metadata": {},
   "outputs": [
    {
     "name": "stdout",
     "output_type": "stream",
     "text": [
      "    Year S&P credit rating  Numerical Index  Inflation Rate  \\\n",
      "0   1960               BBB               68        3.574512   \n",
      "1   1961               BBB               68        5.368462   \n",
      "2   1962               BBB               68        6.835440   \n",
      "3   1963               BBB               68        6.706906   \n",
      "4   1964               BBB               68        3.800389   \n",
      "..   ...               ...              ...             ...   \n",
      "58  2018                A+               84        0.989095   \n",
      "59  2019                A+               84        0.468776   \n",
      "60  2020                A+               84       -0.024996   \n",
      "61  2021                A+               84       -0.233353   \n",
      "62  2022                A+               84        2.497703   \n",
      "\n",
      "    G7 Average Inflation Rate  JPN-G7 Inflation Gap  \\\n",
      "0                    2.203067              1.371445   \n",
      "1                    2.521468              2.846994   \n",
      "2                    3.736855              3.098586   \n",
      "3                    3.859159              2.847747   \n",
      "4                    3.104612              0.695778   \n",
      "..                        ...                   ...   \n",
      "58                   1.819568             -0.830473   \n",
      "59                   1.299077             -0.830301   \n",
      "60                   0.489951             -0.514947   \n",
      "61                   2.859195             -3.092548   \n",
      "62                   7.179457             -4.681754   \n",
      "\n",
      "    Years of Default/Restructuring  Years since last Default/Restructuring  \\\n",
      "0                                0                                       1   \n",
      "1                                0                                       2   \n",
      "2                                0                                       3   \n",
      "3                                0                                       4   \n",
      "4                                0                                       5   \n",
      "..                             ...                                     ...   \n",
      "58                              21                                      23   \n",
      "59                              21                                      24   \n",
      "60                              21                                      25   \n",
      "61                              21                                      26   \n",
      "62                              21                                      27   \n",
      "\n",
      "    Political Continuity/Stability Score  Public Debt (%GDP)  \\\n",
      "0                                      1           10.427302   \n",
      "1                                      1            8.451823   \n",
      "2                                      3            9.025890   \n",
      "3                                      4            8.667781   \n",
      "4                                      5            8.536577   \n",
      "..                                   ...                 ...   \n",
      "58                                     6          232.386265   \n",
      "59                                     7          236.430710   \n",
      "60                                     8          258.708613   \n",
      "61                                     8          255.394024   \n",
      "62                                     9          261.288810   \n",
      "\n",
      "    Public Debt Moving Average (%GDP)  Detrended Public Debt (%GDP)  \n",
      "0                                 NaN                           NaN  \n",
      "1                                 NaN                           NaN  \n",
      "2                                 NaN                           NaN  \n",
      "3                                 NaN                           NaN  \n",
      "4                            9.021875                     -0.485298  \n",
      "..                                ...                           ...  \n",
      "58                         231.541347                      0.844918  \n",
      "59                         232.170222                      4.260487  \n",
      "60                         238.254917                     20.453696  \n",
      "61                         242.847790                     12.546234  \n",
      "62                         248.841684                     12.447126  \n",
      "\n",
      "[63 rows x 12 columns]\n"
     ]
    }
   ],
   "source": [
    "# dataframe overview\n",
    "print(DataFrame(DITdf))"
   ]
  },
  {
   "cell_type": "markdown",
   "metadata": {},
   "source": [
    "##### 1) Model specification 1: Global Model"
   ]
  },
  {
   "cell_type": "code",
   "execution_count": 54,
   "metadata": {},
   "outputs": [
    {
     "name": "stdout",
     "output_type": "stream",
     "text": [
      "                            OLS Regression Results                            \n",
      "==============================================================================\n",
      "Dep. Variable:        Numerical Index   R-squared:                       0.855\n",
      "Model:                            OLS   Adj. R-squared:                  0.839\n",
      "Method:                 Least Squares   F-statistic:                     54.99\n",
      "Date:                Wed, 01 May 2024   Prob (F-statistic):           1.08e-21\n",
      "Time:                        19:41:27   Log-Likelihood:                -188.96\n",
      "No. Observations:                  63   AIC:                             391.9\n",
      "Df Residuals:                      56   BIC:                             406.9\n",
      "Df Model:                           6                                         \n",
      "Covariance Type:            nonrobust                                         \n",
      "==========================================================================================================\n",
      "                                             coef    std err          t      P>|t|      [0.025      0.975]\n",
      "----------------------------------------------------------------------------------------------------------\n",
      "const                                     73.0566      2.552     28.624      0.000      67.944      78.169\n",
      "Inflation Rate                             0.8924      0.327      2.729      0.008       0.237       1.548\n",
      "JPN-G7 Inflation Gap                      -1.9939      0.505     -3.949      0.000      -3.005      -0.983\n",
      "Years of Default/Restructuring             0.7946      0.318      2.497      0.015       0.157       1.432\n",
      "Years since last Default/Restructuring    -1.0180      0.240     -4.239      0.000      -1.499      -0.537\n",
      "Political Continuity/Stability Score       0.2061      0.218      0.944      0.349      -0.231       0.644\n",
      "Public Debt (%GDP)                         0.0503      0.044      1.131      0.263      -0.039       0.139\n",
      "==============================================================================\n",
      "Omnibus:                       37.554   Durbin-Watson:                   1.451\n",
      "Prob(Omnibus):                  0.000   Jarque-Bera (JB):              140.103\n",
      "Skew:                          -1.631   Prob(JB):                     3.78e-31\n",
      "Kurtosis:                       9.537   Cond. No.                         534.\n",
      "==============================================================================\n",
      "\n",
      "Notes:\n",
      "[1] Standard Errors assume that the covariance matrix of the errors is correctly specified.\n"
     ]
    }
   ],
   "source": [
    "# Regression model specification 1: Global Model \n",
    "\n",
    "# define our dependent variable (Y)\n",
    "Y1 = DITdf[\"Numerical Index\"]\n",
    "\n",
    "# introduce the explanatory variables in the model (Xn) \n",
    "X1 = DITdf[[\"Inflation Rate\", \"JPN-G7 Inflation Gap\", \"Years of Default/Restructuring\", \"Years since last Default/Restructuring\", \"Political Continuity/Stability Score\", \"Public Debt (%GDP)\"]]\n",
    "X1 = sm.add_constant(X1)\n",
    "\n",
    "# run and fit the model\n",
    "model1 = sm.OLS(Y1, X1)\n",
    "results1 = model1.fit()\n",
    "print(results1.summary())"
   ]
  },
  {
   "cell_type": "markdown",
   "metadata": {},
   "source": [
    "##### 2) Model specification 2: Detrended Global Model"
   ]
  },
  {
   "cell_type": "code",
   "execution_count": 55,
   "metadata": {},
   "outputs": [
    {
     "name": "stdout",
     "output_type": "stream",
     "text": [
      "                            OLS Regression Results                            \n",
      "==============================================================================\n",
      "Dep. Variable:        Numerical Index   R-squared:                       0.833\n",
      "Model:                            OLS   Adj. R-squared:                  0.813\n",
      "Method:                 Least Squares   F-statistic:                     43.14\n",
      "Date:                Wed, 01 May 2024   Prob (F-statistic):           1.72e-18\n",
      "Time:                        19:41:27   Log-Likelihood:                -177.98\n",
      "No. Observations:                  59   AIC:                             370.0\n",
      "Df Residuals:                      52   BIC:                             384.5\n",
      "Df Model:                           6                                         \n",
      "Covariance Type:            nonrobust                                         \n",
      "==========================================================================================================\n",
      "                                             coef    std err          t      P>|t|      [0.025      0.975]\n",
      "----------------------------------------------------------------------------------------------------------\n",
      "const                                     77.1749      3.548     21.751      0.000      70.055      84.295\n",
      "Inflation Rate                             0.9607      0.325      2.960      0.005       0.310       1.612\n",
      "JPN-G7 Inflation Gap                      -2.2388      0.412     -5.429      0.000      -3.066      -1.411\n",
      "Years of Default/Restructuring             1.1127      0.146      7.643      0.000       0.821       1.405\n",
      "Years since last Default/Restructuring    -0.8908      0.137     -6.521      0.000      -1.165      -0.617\n",
      "Political Continuity/Stability Score      -0.1248      0.232     -0.539      0.592      -0.589       0.340\n",
      "Detrended Public Debt (%GDP)               0.0004      0.109      0.004      0.997      -0.218       0.219\n",
      "==============================================================================\n",
      "Omnibus:                       27.333   Durbin-Watson:                   1.533\n",
      "Prob(Omnibus):                  0.000   Jarque-Bera (JB):               89.793\n",
      "Skew:                          -1.184   Prob(JB):                     3.17e-20\n",
      "Kurtosis:                       8.561   Cond. No.                         123.\n",
      "==============================================================================\n",
      "\n",
      "Notes:\n",
      "[1] Standard Errors assume that the covariance matrix of the errors is correctly specified.\n"
     ]
    }
   ],
   "source": [
    "# Regression model specification 2: Detrended Global Model  \n",
    "# additionaly, the second variant of the model includes detrended and stationarity-cleaned data for Public Debt (%GDP) substituting the previous raw ones, presenting evidence of a trend tendency.  \n",
    "\n",
    "# data manipulation\n",
    "DITdf2 = DITdf.copy()\n",
    "DITdf2 = DITdf2.dropna()\n",
    "DITdf2 = DITdf2.reset_index(drop=True)\n",
    "\n",
    "# define our dependent variable (Y)\n",
    "Y2 = DITdf2[\"Numerical Index\"]\n",
    "\n",
    "# introduce the explanatory variables, including the cleaned ones, in the model (Xn)\n",
    "X2 = DITdf2[[\"Inflation Rate\", \"JPN-G7 Inflation Gap\", \"Years of Default/Restructuring\", \"Years since last Default/Restructuring\", \"Political Continuity/Stability Score\", \"Detrended Public Debt (%GDP)\"]]\n",
    "X2 = sm.add_constant(X2)\n",
    "\n",
    "# run and fit the model\n",
    "model2 = sm.OLS(Y2, X2)\n",
    "results2 = model2.fit()\n",
    "print(results2.summary())"
   ]
  },
  {
   "cell_type": "markdown",
   "metadata": {},
   "source": [
    "##### 3) Model specification 3: Inflation-Austerity Model"
   ]
  },
  {
   "cell_type": "code",
   "execution_count": 78,
   "metadata": {},
   "outputs": [
    {
     "name": "stdout",
     "output_type": "stream",
     "text": [
      "                            OLS Regression Results                            \n",
      "==============================================================================\n",
      "Dep. Variable:        Numerical Index   R-squared:                       0.622\n",
      "Model:                            OLS   Adj. R-squared:                  0.511\n",
      "Method:                 Least Squares   F-statistic:                     5.589\n",
      "Date:                Wed, 01 May 2024   Prob (F-statistic):            0.00317\n",
      "Time:                        20:01:31   Log-Likelihood:                -54.278\n",
      "No. Observations:                  23   AIC:                             120.6\n",
      "Df Residuals:                      17   BIC:                             127.4\n",
      "Df Model:                           5                                         \n",
      "Covariance Type:            nonrobust                                         \n",
      "==========================================================================================================\n",
      "                                             coef    std err          t      P>|t|      [0.025      0.975]\n",
      "----------------------------------------------------------------------------------------------------------\n",
      "const                                    105.0911     13.869      7.577      0.000      75.830     134.353\n",
      "Inflation Rate                             0.0199      0.763      0.026      0.980      -1.591       1.631\n",
      "JPN-G7 Inflation Gap                      -0.5472      0.633     -0.864      0.399      -1.883       0.788\n",
      "Years since last Default/Restructuring    -0.2788      0.473     -0.590      0.563      -1.277       0.719\n",
      "Political Continuity/Stability Score      -0.1811      0.228     -0.794      0.438      -0.662       0.300\n",
      "Public Debt (%GDP)                        -0.0560      0.094     -0.595      0.560      -0.255       0.142\n",
      "==============================================================================\n",
      "Omnibus:                        0.153   Durbin-Watson:                   0.826\n",
      "Prob(Omnibus):                  0.927   Jarque-Bera (JB):                0.324\n",
      "Skew:                           0.150   Prob(JB):                        0.850\n",
      "Kurtosis:                       2.502   Cond. No.                     4.67e+03\n",
      "==============================================================================\n",
      "\n",
      "Notes:\n",
      "[1] Standard Errors assume that the covariance matrix of the errors is correctly specified.\n",
      "[2] The condition number is large, 4.67e+03. This might indicate that there are\n",
      "strong multicollinearity or other numerical problems.\n"
     ]
    }
   ],
   "source": [
    "# Regression model specification 3: Inflation-Austerity Model\n",
    "# we now replace our raw and non-stationary data on Inflation Rate with the cleaned ones from the time segment 2000-2022, conveying mean-reverted and constant std patterns. \n",
    "# it is worth to notice that with this dataframe structure, we need to remove data from \"Years of Default/Restructuring\" as during the 2000-2022 time span, we do not observe any variation, reducing in this way the global efficiency of our model (no bias). \n",
    "\n",
    "# data manipulation\n",
    "DITdf3 = DITdf.copy()\n",
    "DITdf3 = DITdf3.drop(index=range(0, 40))\n",
    "DITdf3 = DITdf3.reset_index(drop=True)\n",
    "\n",
    "# define our dependent variable (Y)\n",
    "Y3 = DITdf3[\"Numerical Index\"]\n",
    "\n",
    "# introduce the explanatory variables, including the cleaned ones, in the model (Xn)\n",
    "X3 = DITdf3[[\"Inflation Rate\", \"JPN-G7 Inflation Gap\", \"Years since last Default/Restructuring\", \"Political Continuity/Stability Score\", \"Public Debt (%GDP)\"]]\n",
    "X3 = sm.add_constant(X3)\n",
    "\n",
    "# run and fit the model\n",
    "model3 = sm.OLS(Y3, X3)\n",
    "results3 = model3.fit()\n",
    "print(results3.summary())"
   ]
  },
  {
   "cell_type": "markdown",
   "metadata": {},
   "source": [
    "##### 4) Model specification 4: Restricted Inflation-Austerity Model"
   ]
  },
  {
   "cell_type": "code",
   "execution_count": 74,
   "metadata": {},
   "outputs": [
    {
     "name": "stdout",
     "output_type": "stream",
     "text": [
      "                            OLS Regression Results                            \n",
      "==============================================================================\n",
      "Dep. Variable:        Numerical Index   R-squared:                       0.597\n",
      "Model:                            OLS   Adj. R-squared:                  0.534\n",
      "Method:                 Least Squares   F-statistic:                     9.393\n",
      "Date:                Wed, 01 May 2024   Prob (F-statistic):           0.000509\n",
      "Time:                        19:54:40   Log-Likelihood:                -55.000\n",
      "No. Observations:                  23   AIC:                             118.0\n",
      "Df Residuals:                      19   BIC:                             122.5\n",
      "Df Model:                           3                                         \n",
      "Covariance Type:            nonrobust                                         \n",
      "========================================================================================================\n",
      "                                           coef    std err          t      P>|t|      [0.025      0.975]\n",
      "--------------------------------------------------------------------------------------------------------\n",
      "const                                  109.7495      7.340     14.952      0.000      94.386     125.113\n",
      "Inflation Rate                          -0.1935      0.715     -0.270      0.790      -1.691       1.304\n",
      "Political Continuity/Stability Score    -0.1278      0.181     -0.706      0.489      -0.506       0.251\n",
      "Public Debt (%GDP)                      -0.0987      0.028     -3.471      0.003      -0.158      -0.039\n",
      "==============================================================================\n",
      "Omnibus:                        0.908   Durbin-Watson:                   0.728\n",
      "Prob(Omnibus):                  0.635   Jarque-Bera (JB):                0.763\n",
      "Skew:                           0.105   Prob(JB):                        0.683\n",
      "Kurtosis:                       2.133   Cond. No.                     2.53e+03\n",
      "==============================================================================\n",
      "\n",
      "Notes:\n",
      "[1] Standard Errors assume that the covariance matrix of the errors is correctly specified.\n",
      "[2] The condition number is large, 2.53e+03. This might indicate that there are\n",
      "strong multicollinearity or other numerical problems.\n"
     ]
    }
   ],
   "source": [
    "# Regression model specification 4: Restricted Inflation-Austerity Model\n",
    "# unlike model specification 3, here we additionaly exclude proxy variables characterized by low-variance, i.e., \"Years of Default/Restructuring\" & \"Years since last Default/Restructuring\" (keeping the time segment (2000-2022) unchanged).\n",
    "# given the restricted nature of the model and aiming to avoid multicollinearity issues, we keep only one of the two indicators tracking the underlying inflation dynamics. \n",
    "\n",
    "# data manipulation\n",
    "DITdf4 = DITdf.copy()\n",
    "DITdf4 = DITdf4.drop(index=range(0, 40))\n",
    "DITdf4 = DITdf4.reset_index(drop=True)\n",
    "\n",
    "# define our dependent variable (Y)\n",
    "Y4 = DITdf4[\"Numerical Index\"]\n",
    "\n",
    "# introduce the explanatory variables, including the cleaned ones, in the model (Xn)\n",
    "X4 = DITdf4[[\"Inflation Rate\", \"Political Continuity/Stability Score\", \"Public Debt (%GDP)\"]]\n",
    "X4 = sm.add_constant(X4)\n",
    "\n",
    "# run and fit the model\n",
    "model4 = sm.OLS(Y4, X4)\n",
    "results4 = model4.fit()\n",
    "print(results4.summary())"
   ]
  },
  {
   "cell_type": "markdown",
   "metadata": {},
   "source": [
    "### **Robustness checks**"
   ]
  },
  {
   "cell_type": "code",
   "execution_count": 58,
   "metadata": {},
   "outputs": [],
   "source": [
    "import pandas as pd\n",
    "from pandas import DataFrame \n",
    "import numpy as np\n",
    "import statsmodels.api as sm\n",
    "from statsmodels.stats.diagnostic import linear_reset\n",
    "from statsmodels.stats.diagnostic import het_breuschpagan\n",
    "from statsmodels.stats.diagnostic import het_white\n",
    "from statsmodels.tools import add_constant\n",
    "from scipy.stats import shapiro\n",
    "from scipy.stats import chi2\n",
    "from linearmodels.iv import IV2SLS"
   ]
  },
  {
   "cell_type": "markdown",
   "metadata": {},
   "source": [
    "##### 1) First-order autocorrelation check"
   ]
  },
  {
   "cell_type": "code",
   "execution_count": 79,
   "metadata": {},
   "outputs": [
    {
     "name": "stdout",
     "output_type": "stream",
     "text": [
      "First-order autocorrelation: 0.9430162882552434\n"
     ]
    }
   ],
   "source": [
    "# First-order autocorrelation check\n",
    "# lag=1\n",
    "autocorrelation = DITdf[\"Numerical Index\"].autocorr()\n",
    "print(\"First-order autocorrelation:\", autocorrelation)\n",
    "\n",
    "# In the case of credit rating dynamics, including autocorrelation in the model may lack conceptual relevance and not provide further relevant insights, despite its statistically significant high value (0.943), which is not surprising given the low-variance feature of the phenomena. \n",
    "# Moreover, its inclusion could introduce multicollinearity issues without enhancing the interpretability of the model. "
   ]
  },
  {
   "cell_type": "markdown",
   "metadata": {},
   "source": [
    "##### 2) Non-normality of error terms tests"
   ]
  },
  {
   "cell_type": "code",
   "execution_count": 60,
   "metadata": {},
   "outputs": [],
   "source": [
    "# Jarque-Bera Test\n",
    "# Running regressions on Python provides you already with Jarque-Bera's test statistics, assessing if the error terms follow a distribution close to the normal, according to their skewness and kurtosis statistics.\n",
    "# In our case, in model specification 1 and 2, the high Jarque-Bera test statistics (140.103 and 89.793, respectively) coupled with very low p-values (Prob(JB) < 0.05) strongly suggest significant deviations from normality in residuals, probably mainly due to similar non-mean reverted dynamics to the ones that we have observed for Public Debt data. \n",
    "# Conversely as predictable, model specification 3 and 4 exhibit markedly lower Jarque-Bera statistics (0.324 and 0.763, respectively) with correspondingly higher p-values (Prob(JB) > 0.05), indicating a lack of evidence to reject the null hypothesis of normality in residuals for these models. "
   ]
  },
  {
   "cell_type": "code",
   "execution_count": 81,
   "metadata": {},
   "outputs": [
    {
     "name": "stdout",
     "output_type": "stream",
     "text": [
      "Shapiro-Wilk test statistics: 0.8765243887901306 0.9055104851722717 0.9885508418083191 0.9576776623725891\n",
      "Shapiro-Wilk p-values: 1.3348992979445029e-05 0.00023736785806249827 0.9928932785987854 0.418115496635437\n"
     ]
    }
   ],
   "source": [
    "# Shapiro-Wilk test \n",
    "shapiro_statistic1, shapiro_p_value1 = shapiro(results1.resid)\n",
    "shapiro_statistic2, shapiro_p_value2 = shapiro(results2.resid)\n",
    "shapiro_statistic3, shapiro_p_value3 = shapiro(results3.resid)\n",
    "shapiro_statistic4, shapiro_p_value4 = shapiro(results4.resid)\n",
    "\n",
    "print(\"Shapiro-Wilk test statistics:\", shapiro_statistic1, shapiro_statistic2, shapiro_statistic3, shapiro_statistic4)\n",
    "print(\"Shapiro-Wilk p-values:\", shapiro_p_value1, shapiro_p_value2, shapiro_p_value3, shapiro_p_value4)\n",
    "\n",
    "# As proof of what previously assessed, Shapiro-Wilk tests were run on all four regression models. In line with JB's findings, for model 1 and model 2, the results revealed notably low Shapiro-Wilk statistics (0.8765 and 0.9055, respectively) coupled with exceedingly small p-values (p < 0.05), indicating possible deviations from normality in residuals. \n",
    "# Mirroring JB, the third model displayed a Shapiro-Wilk statistic of 0.9886, accompanied by a notably high p-value (0.9929), signifying no compelling evidence to refuse the assumption of normality in residuals. \n",
    "# Similarly, in model 4, the Shapiro-Wilk statistic was 0.9577, with a moderate p-value (0.4181), further supporting the notion of residuals conforming to a normal distribution. "
   ]
  },
  {
   "cell_type": "markdown",
   "metadata": {},
   "source": [
    "##### 3) Functional form tests"
   ]
  },
  {
   "cell_type": "code",
   "execution_count": 82,
   "metadata": {},
   "outputs": [
    {
     "name": "stdout",
     "output_type": "stream",
     "text": [
      "Ramsey RESET test stats for mod1: <Wald test (chi2): statistic=2.7590606984559574, p-value=0.09670500132923136, df_denom=1>\n",
      "Ramsey RESET test stats for mod2: <Wald test (chi2): statistic=2.209015774499965, p-value=0.13720618319324204, df_denom=1>\n",
      "Ramsey RESET test stats for mod3: <Wald test (chi2): statistic=0.5752895358123786, p-value=0.44816461839942334, df_denom=1>\n",
      "Ramsey RESET test stats for mod4: <Wald test (chi2): statistic=1.2237797696396067, p-value=0.26862014420121305, df_denom=1>\n"
     ]
    }
   ],
   "source": [
    "# Ramsey reset test\n",
    "# power=2 indicates that the test will include additional terms that are the square of the fitted values.\n",
    "reset_test1 = linear_reset(results1, power=2)\n",
    "reset_test2 = linear_reset(results2, power=2)\n",
    "reset_test3 = linear_reset(results3, power=2)\n",
    "reset_test4 = linear_reset(results4, power=2)\n",
    "\n",
    "print(\"Ramsey RESET test stats for mod1:\", reset_test1)\n",
    "print(\"Ramsey RESET test stats for mod2:\", reset_test2)\n",
    "print(\"Ramsey RESET test stats for mod3:\", reset_test3)\n",
    "print(\"Ramsey RESET test stats for mod4:\", reset_test4)\n",
    "\n",
    "# Across all models, the p-values exceed the conventional significance threshold of 0.05, indicating no strong evidence to reject the null hypothesis of correct functional form specification. \n",
    "# Thus, there is no indication of significant misspecification in the functional forms of the regression models based on the Ramsey RESET test results. \n",
    "# It is also worth to notice that among all specifications, we do not dected potential issue of harmful levels of data-noise-capturing, according to adjusted R-squared statistics."
   ]
  },
  {
   "cell_type": "markdown",
   "metadata": {},
   "source": [
    "##### 4) Heteroscedasticity robustness test"
   ]
  },
  {
   "cell_type": "code",
   "execution_count": 83,
   "metadata": {},
   "outputs": [
    {
     "name": "stdout",
     "output_type": "stream",
     "text": [
      "Breusch-Pagan test statistic: 18.78026467240525 10.555406154433955 12.06691553711241 11.063456829321334\n",
      "Breusch-Pagan test p-value: 0.004551283759534665 0.10312803876338704 0.033882298427713446 0.011387642879450259\n"
     ]
    }
   ],
   "source": [
    "# Breusch-Pagan test\n",
    "# set the test requirements\n",
    "exog_with_constant1 = results1.model.exog\n",
    "exog_with_constant2 = results2.model.exog\n",
    "exog_with_constant3 = results3.model.exog\n",
    "exog_with_constant4 = results4.model.exog\n",
    "\n",
    "# run the test with the constant term\n",
    "bp_test1 = het_breuschpagan(results1.resid, exog_with_constant1)\n",
    "bp_test2 = het_breuschpagan(results2.resid, exog_with_constant2)\n",
    "bp_test3 = het_breuschpagan(results3.resid, exog_with_constant3)\n",
    "bp_test4 = het_breuschpagan(results4.resid, exog_with_constant4)\n",
    "\n",
    "# extract test statistics and p-values for each model specification\n",
    "bp_statistic1 = bp_test1[0]\n",
    "bp_p_value1 = bp_test1[1]\n",
    "bp_statistic2 = bp_test2[0]\n",
    "bp_p_value2 = bp_test2[1]\n",
    "bp_statistic3 = bp_test3[0]\n",
    "bp_p_value3 = bp_test3[1]\n",
    "bp_statistic4 = bp_test4[0]\n",
    "bp_p_value4 = bp_test4[1]\n",
    "\n",
    "print(\"Breusch-Pagan test statistic:\", bp_statistic1, bp_statistic2, bp_statistic3, bp_statistic4)\n",
    "print(\"Breusch-Pagan test p-value:\", bp_p_value1, bp_p_value2, bp_p_value3, bp_p_value4)\n",
    "\n",
    "# The obtained p-values suggest that there is evidence of heteroscedasticity in the error terms for model 1 (0.00455), model 3 (0.03388) and model 4 (0.01139), while specification 2 does not exhibit significant evidence of heteroscedasticity (0.10313). \n",
    "# This implies that the assumption of homoscedasticity may not hold for three first mentioned models, potentially affecting the reliability of their parameter estimates and inferential conclusions."
   ]
  },
  {
   "cell_type": "code",
   "execution_count": 84,
   "metadata": {},
   "outputs": [
    {
     "name": "stdout",
     "output_type": "stream",
     "text": [
      "White test statistic: 48.459489115198 54.289098922162175 21.124952913578433 15.223442288413443\n",
      "White test p-value: 0.00681933069647358 0.0014022516451338495 0.3898110093746949 0.08497842829485962\n"
     ]
    }
   ],
   "source": [
    "# White test\n",
    "# even for White test, we need to rely on the constant term we manually add for BP test\n",
    "white_test1 = het_white(results1.resid, exog_with_constant1)\n",
    "white_test2 = het_white(results2.resid, exog_with_constant2)\n",
    "white_test3 = het_white(results3.resid, exog_with_constant3)\n",
    "white_test4 = het_white(results4.resid, exog_with_constant4)\n",
    "\n",
    "# extract test statistics and p-values for each model specification\n",
    "white_statistic1 = white_test1[0]\n",
    "white_pvalue1 = white_test1[1]\n",
    "white_statistic2 = white_test2[0]\n",
    "white_pvalue2 = white_test2[1]\n",
    "white_statistic3 = white_test3[0]\n",
    "white_pvalue3 = white_test3[1]\n",
    "white_statistic4 = white_test4[0]\n",
    "white_pvalue4 = white_test4[1]\n",
    "\n",
    "print(\"White test statistic:\", white_statistic1, white_statistic2, white_statistic3, white_statistic4)\n",
    "print(\"White test p-value:\", white_pvalue1, white_pvalue2, white_pvalue3, white_pvalue4)\n",
    "\n",
    "# The White test identified significant heteroscedasticity in the error terms of model specification 1 (0.00681) and 2 (0.00140), implying varying variance across independent variable levels. \n",
    "# However, model 3 (0.38981) and model 4 (0.08497) exhibited no significant evidence of heteroscedasticity, suggesting stable variance in their error terms. \n",
    "# Eventually, the White test results were not globally alligned with our previous findings from BP, instead they appear slightly controversial in the interpretation of heteroscedasticity evidence, calling for specifications-spread heteroscedasticity corrections. "
   ]
  },
  {
   "cell_type": "code",
   "execution_count": 86,
   "metadata": {},
   "outputs": [
    {
     "name": "stdout",
     "output_type": "stream",
     "text": [
      "                            OLS Regression Results                            \n",
      "==============================================================================\n",
      "Dep. Variable:        Numerical Index   R-squared:                       0.855\n",
      "Model:                            OLS   Adj. R-squared:                  0.839\n",
      "Method:                 Least Squares   F-statistic:                     209.7\n",
      "Date:                Wed, 01 May 2024   Prob (F-statistic):           1.68e-36\n",
      "Time:                        20:39:11   Log-Likelihood:                -188.96\n",
      "No. Observations:                  63   AIC:                             391.9\n",
      "Df Residuals:                      56   BIC:                             406.9\n",
      "Df Model:                           6                                         \n",
      "Covariance Type:                  HC3                                         \n",
      "==========================================================================================================\n",
      "                                             coef    std err          z      P>|z|      [0.025      0.975]\n",
      "----------------------------------------------------------------------------------------------------------\n",
      "const                                     73.0566      2.953     24.741      0.000      67.269      78.844\n",
      "Inflation Rate                             0.8924      0.556      1.604      0.109      -0.198       1.983\n",
      "JPN-G7 Inflation Gap                      -1.9939      0.465     -4.290      0.000      -2.905      -1.083\n",
      "Years of Default/Restructuring             0.7946      0.396      2.006      0.045       0.018       1.571\n",
      "Years since last Default/Restructuring    -1.0180      0.368     -2.769      0.006      -1.739      -0.297\n",
      "Political Continuity/Stability Score       0.2061      0.229      0.900      0.368      -0.243       0.655\n",
      "Public Debt (%GDP)                         0.0503      0.067      0.753      0.451      -0.081       0.181\n",
      "==============================================================================\n",
      "Omnibus:                       37.554   Durbin-Watson:                   1.451\n",
      "Prob(Omnibus):                  0.000   Jarque-Bera (JB):              140.103\n",
      "Skew:                          -1.631   Prob(JB):                     3.78e-31\n",
      "Kurtosis:                       9.537   Cond. No.                         534.\n",
      "==============================================================================\n",
      "\n",
      "Notes:\n",
      "[1] Standard Errors are heteroscedasticity robust (HC3)\n",
      "                            OLS Regression Results                            \n",
      "==============================================================================\n",
      "Dep. Variable:        Numerical Index   R-squared:                       0.833\n",
      "Model:                            OLS   Adj. R-squared:                  0.813\n",
      "Method:                 Least Squares   F-statistic:                     108.1\n",
      "Date:                Wed, 01 May 2024   Prob (F-statistic):           1.39e-27\n",
      "Time:                        20:39:11   Log-Likelihood:                -177.98\n",
      "No. Observations:                  59   AIC:                             370.0\n",
      "Df Residuals:                      52   BIC:                             384.5\n",
      "Df Model:                           6                                         \n",
      "Covariance Type:                  HC3                                         \n",
      "==========================================================================================================\n",
      "                                             coef    std err          z      P>|z|      [0.025      0.975]\n",
      "----------------------------------------------------------------------------------------------------------\n",
      "const                                     77.1749      3.806     20.276      0.000      69.715      84.635\n",
      "Inflation Rate                             0.9607      0.621      1.547      0.122      -0.257       2.178\n",
      "JPN-G7 Inflation Gap                      -2.2388      0.469     -4.770      0.000      -3.159      -1.319\n",
      "Years of Default/Restructuring             1.1127      0.146      7.613      0.000       0.826       1.399\n",
      "Years since last Default/Restructuring    -0.8908      0.117     -7.599      0.000      -1.120      -0.661\n",
      "Political Continuity/Stability Score      -0.1248      0.212     -0.590      0.555      -0.539       0.290\n",
      "Detrended Public Debt (%GDP)               0.0004      0.069      0.006      0.995      -0.135       0.136\n",
      "==============================================================================\n",
      "Omnibus:                       27.333   Durbin-Watson:                   1.533\n",
      "Prob(Omnibus):                  0.000   Jarque-Bera (JB):               89.793\n",
      "Skew:                          -1.184   Prob(JB):                     3.17e-20\n",
      "Kurtosis:                       8.561   Cond. No.                         123.\n",
      "==============================================================================\n",
      "\n",
      "Notes:\n",
      "[1] Standard Errors are heteroscedasticity robust (HC3)\n",
      "                            OLS Regression Results                            \n",
      "==============================================================================\n",
      "Dep. Variable:        Numerical Index   R-squared:                       0.622\n",
      "Model:                            OLS   Adj. R-squared:                  0.511\n",
      "Method:                 Least Squares   F-statistic:                     4.357\n",
      "Date:                Wed, 01 May 2024   Prob (F-statistic):            0.00979\n",
      "Time:                        20:39:11   Log-Likelihood:                -54.278\n",
      "No. Observations:                  23   AIC:                             120.6\n",
      "Df Residuals:                      17   BIC:                             127.4\n",
      "Df Model:                           5                                         \n",
      "Covariance Type:                  HC3                                         \n",
      "==========================================================================================================\n",
      "                                             coef    std err          z      P>|z|      [0.025      0.975]\n",
      "----------------------------------------------------------------------------------------------------------\n",
      "const                                    105.0911     18.782      5.595      0.000      68.279     141.903\n",
      "Inflation Rate                             0.0199      1.030      0.019      0.985      -1.998       2.038\n",
      "JPN-G7 Inflation Gap                      -0.5472      0.658     -0.832      0.405      -1.836       0.742\n",
      "Years since last Default/Restructuring    -0.2788      0.475     -0.586      0.558      -1.211       0.653\n",
      "Political Continuity/Stability Score      -0.1811      0.296     -0.611      0.541      -0.762       0.400\n",
      "Public Debt (%GDP)                        -0.0560      0.116     -0.483      0.629      -0.283       0.171\n",
      "==============================================================================\n",
      "Omnibus:                        0.153   Durbin-Watson:                   0.826\n",
      "Prob(Omnibus):                  0.927   Jarque-Bera (JB):                0.324\n",
      "Skew:                           0.150   Prob(JB):                        0.850\n",
      "Kurtosis:                       2.502   Cond. No.                     4.67e+03\n",
      "==============================================================================\n",
      "\n",
      "Notes:\n",
      "[1] Standard Errors are heteroscedasticity robust (HC3)\n",
      "[2] The condition number is large, 4.67e+03. This might indicate that there are\n",
      "strong multicollinearity or other numerical problems.\n",
      "                            OLS Regression Results                            \n",
      "==============================================================================\n",
      "Dep. Variable:        Numerical Index   R-squared:                       0.597\n",
      "Model:                            OLS   Adj. R-squared:                  0.534\n",
      "Method:                 Least Squares   F-statistic:                     5.178\n",
      "Date:                Wed, 01 May 2024   Prob (F-statistic):            0.00876\n",
      "Time:                        20:39:11   Log-Likelihood:                -55.000\n",
      "No. Observations:                  23   AIC:                             118.0\n",
      "Df Residuals:                      19   BIC:                             122.5\n",
      "Df Model:                           3                                         \n",
      "Covariance Type:                  HC3                                         \n",
      "========================================================================================================\n",
      "                                           coef    std err          z      P>|z|      [0.025      0.975]\n",
      "--------------------------------------------------------------------------------------------------------\n",
      "const                                  109.7495      8.765     12.521      0.000      92.570     126.929\n",
      "Inflation Rate                          -0.1935      0.819     -0.236      0.813      -1.798       1.411\n",
      "Political Continuity/Stability Score    -0.1278      0.187     -0.684      0.494      -0.494       0.238\n",
      "Public Debt (%GDP)                      -0.0987      0.034     -2.901      0.004      -0.165      -0.032\n",
      "==============================================================================\n",
      "Omnibus:                        0.908   Durbin-Watson:                   0.728\n",
      "Prob(Omnibus):                  0.635   Jarque-Bera (JB):                0.763\n",
      "Skew:                           0.105   Prob(JB):                        0.683\n",
      "Kurtosis:                       2.133   Cond. No.                     2.53e+03\n",
      "==============================================================================\n",
      "\n",
      "Notes:\n",
      "[1] Standard Errors are heteroscedasticity robust (HC3)\n",
      "[2] The condition number is large, 2.53e+03. This might indicate that there are\n",
      "strong multicollinearity or other numerical problems.\n"
     ]
    }
   ],
   "source": [
    "# Heteroscedasticity corrections\n",
    "# extracting the regression results using HC3 estimator for robust standard errors \n",
    "results1_robust = model1.fit(cov_type=\"HC3\")  \n",
    "results2_robust = model2.fit(cov_type=\"HC3\") \n",
    "results3_robust = model3.fit(cov_type=\"HC3\") \n",
    "results4_robust = model4.fit(cov_type=\"HC3\") \n",
    "\n",
    "print(results1_robust.summary())\n",
    "print(results2_robust.summary())\n",
    "print(results3_robust.summary())\n",
    "print(results4_robust.summary())"
   ]
  },
  {
   "cell_type": "markdown",
   "metadata": {},
   "source": [
    "##### 5) Endogeneity robustness test"
   ]
  },
  {
   "cell_type": "code",
   "execution_count": 87,
   "metadata": {},
   "outputs": [
    {
     "name": "stdout",
     "output_type": "stream",
     "text": [
      "                            OLS Regression Results                            \n",
      "==============================================================================\n",
      "Dep. Variable:         Inflation Rate   R-squared:                       0.575\n",
      "Model:                            OLS   Adj. R-squared:                  0.566\n",
      "Method:                 Least Squares   F-statistic:                     67.61\n",
      "Date:                Wed, 01 May 2024   Prob (F-statistic):           7.55e-11\n",
      "Time:                        20:39:16   Log-Likelihood:                -126.35\n",
      "No. Observations:                  52   AIC:                             256.7\n",
      "Df Residuals:                      50   BIC:                             260.6\n",
      "Df Model:                           1                                         \n",
      "Covariance Type:            nonrobust                                         \n",
      "=========================================================================================\n",
      "                            coef    std err          t      P>|t|      [0.025      0.975]\n",
      "-----------------------------------------------------------------------------------------\n",
      "const                    -4.6645      0.943     -4.944      0.000      -6.559      -2.770\n",
      "Yen-USD Spot Exchange     0.0450      0.005      8.222      0.000       0.034       0.056\n",
      "==============================================================================\n",
      "Omnibus:                       56.992   Durbin-Watson:                   1.020\n",
      "Prob(Omnibus):                  0.000   Jarque-Bera (JB):              467.458\n",
      "Skew:                           2.684   Prob(JB):                    3.11e-102\n",
      "Kurtosis:                      16.673   Cond. No.                         418.\n",
      "==============================================================================\n",
      "\n",
      "Notes:\n",
      "[1] Standard Errors assume that the covariance matrix of the errors is correctly specified.\n"
     ]
    }
   ],
   "source": [
    "# Two-stage IV regression\n",
    "# we suspect a potential correlation between the error term (omitted variables bundle) and the Inflation Rate over time and two adress that we deploy a two stage intrumental variables regression.\n",
    "# instrumental variable: Yen to U.S. Dollar Spot Exchange Rate\n",
    "\n",
    "# data merging\n",
    "DITdf5 = DITdf.copy()\n",
    "DITdf5 = pd.merge(DITdf5, YENdf, on=\"Year\", how=\"outer\")\n",
    "DITdf5 = DITdf5.dropna().reset_index(drop=True)\n",
    "\n",
    "# 1st stage  \n",
    "# stage settings, we manually add the constant term to the exog component \n",
    "instrument = DITdf5[\"Yen-USD Spot Exchange\"]\n",
    "instrument_with_constant = sm.add_constant(instrument)\n",
    "\n",
    "# we regress our variable at endogeneity risk on the instrument (Yen to U.S. Dollar Spot Exchange Rate)\n",
    "first_stage_model = sm.OLS(endog=DITdf5[\"Inflation Rate\"], exog=instrument_with_constant).fit()\n",
    "predicted_endogenous = first_stage_model.predict(instrument_with_constant)\n",
    "DITdf5[\"Predicted endogenous variable (IR)\"] = predicted_endogenous\n",
    "print(first_stage_model.summary())"
   ]
  },
  {
   "cell_type": "code",
   "execution_count": 89,
   "metadata": {},
   "outputs": [
    {
     "name": "stdout",
     "output_type": "stream",
     "text": [
      "                            OLS Regression Results                            \n",
      "==============================================================================\n",
      "Dep. Variable:        Numerical Index   R-squared:                       0.781\n",
      "Model:                            OLS   Adj. R-squared:                  0.751\n",
      "Method:                 Least Squares   F-statistic:                     26.69\n",
      "Date:                Wed, 01 May 2024   Prob (F-statistic):           2.70e-13\n",
      "Time:                        20:40:17   Log-Likelihood:                -153.81\n",
      "No. Observations:                  52   AIC:                             321.6\n",
      "Df Residuals:                      45   BIC:                             335.3\n",
      "Df Model:                           6                                         \n",
      "Covariance Type:            nonrobust                                         \n",
      "==========================================================================================================\n",
      "                                             coef    std err          t      P>|t|      [0.025      0.975]\n",
      "----------------------------------------------------------------------------------------------------------\n",
      "const                                     99.2072      7.528     13.178      0.000      84.044     114.370\n",
      "Predicted endogenous variable (IR)        -0.8349      0.794     -1.051      0.299      -2.435       0.765\n",
      "JPN-G7 Inflation Gap                      -0.8335      0.439     -1.900      0.064      -1.717       0.050\n",
      "Years of Default/Restructuring            -0.1047      0.420     -0.249      0.804      -0.950       0.741\n",
      "Years since last Default/Restructuring    -1.3014      0.276     -4.723      0.000      -1.856      -0.746\n",
      "Political Continuity/Stability Score      -0.2174      0.254     -0.856      0.396      -0.729       0.294\n",
      "Public Debt (%GDP)                         0.0673      0.045      1.484      0.145      -0.024       0.159\n",
      "==============================================================================\n",
      "Omnibus:                       45.153   Durbin-Watson:                   1.844\n",
      "Prob(Omnibus):                  0.000   Jarque-Bera (JB):              213.878\n",
      "Skew:                          -2.205   Prob(JB):                     3.61e-47\n",
      "Kurtosis:                      11.903   Cond. No.                     1.62e+03\n",
      "==============================================================================\n",
      "\n",
      "Notes:\n",
      "[1] Standard Errors assume that the covariance matrix of the errors is correctly specified.\n",
      "[2] The condition number is large, 1.62e+03. This might indicate that there are\n",
      "strong multicollinearity or other numerical problems.\n",
      "                            OLS Regression Results                            \n",
      "==============================================================================\n",
      "Dep. Variable:        Numerical Index   R-squared:                       0.770\n",
      "Model:                            OLS   Adj. R-squared:                  0.739\n",
      "Method:                 Least Squares   F-statistic:                     25.09\n",
      "Date:                Wed, 01 May 2024   Prob (F-statistic):           7.71e-13\n",
      "Time:                        20:40:17   Log-Likelihood:                -155.05\n",
      "No. Observations:                  52   AIC:                             324.1\n",
      "Df Residuals:                      45   BIC:                             337.8\n",
      "Df Model:                           6                                         \n",
      "Covariance Type:            nonrobust                                         \n",
      "==========================================================================================================\n",
      "                                             coef    std err          t      P>|t|      [0.025      0.975]\n",
      "----------------------------------------------------------------------------------------------------------\n",
      "const                                     99.8925      7.696     12.980      0.000      84.392     115.393\n",
      "Predicted endogenous variable (IR)        -0.8613      0.814     -1.058      0.296      -2.501       0.778\n",
      "JPN-G7 Inflation Gap                      -1.2458      0.359     -3.467      0.001      -1.970      -0.522\n",
      "Years of Default/Restructuring             0.2593      0.350      0.741      0.463      -0.445       0.964\n",
      "Years since last Default/Restructuring    -0.9478      0.144     -6.588      0.000      -1.238      -0.658\n",
      "Political Continuity/Stability Score      -0.3242      0.251     -1.291      0.203      -0.830       0.182\n",
      "Detrended Public Debt (%GDP)              -0.0061      0.107     -0.058      0.954      -0.221       0.208\n",
      "==============================================================================\n",
      "Omnibus:                       28.548   Durbin-Watson:                   1.794\n",
      "Prob(Omnibus):                  0.000   Jarque-Bera (JB):               85.660\n",
      "Skew:                          -1.398   Prob(JB):                     2.51e-19\n",
      "Kurtosis:                       8.632   Cond. No.                         272.\n",
      "==============================================================================\n",
      "\n",
      "Notes:\n",
      "[1] Standard Errors assume that the covariance matrix of the errors is correctly specified.\n",
      "                            OLS Regression Results                            \n",
      "==============================================================================\n",
      "Dep. Variable:        Numerical Index   R-squared:                       0.872\n",
      "Model:                            OLS   Adj. R-squared:                  0.765\n",
      "Method:                 Least Squares   F-statistic:                     8.158\n",
      "Date:                Wed, 01 May 2024   Prob (F-statistic):             0.0119\n",
      "Time:                        20:40:17   Log-Likelihood:                -12.315\n",
      "No. Observations:                  12   AIC:                             36.63\n",
      "Df Residuals:                       6   BIC:                             39.54\n",
      "Df Model:                           5                                         \n",
      "Covariance Type:            nonrobust                                         \n",
      "==========================================================================================================\n",
      "                                             coef    std err          t      P>|t|      [0.025      0.975]\n",
      "----------------------------------------------------------------------------------------------------------\n",
      "const                                     74.8092      8.038      9.308      0.000      55.142      94.476\n",
      "Predicted endogenous variable (IR)        -1.2581      0.968     -1.299      0.241      -3.627       1.111\n",
      "JPN-G7 Inflation Gap                      -0.2725      0.268     -1.017      0.349      -0.928       0.383\n",
      "Years since last Default/Restructuring    -0.5262      0.291     -1.807      0.121      -1.239       0.186\n",
      "Political Continuity/Stability Score      -0.2694      0.227     -1.186      0.280      -0.825       0.286\n",
      "Public Debt (%GDP)                         0.0975      0.048      2.036      0.088      -0.020       0.215\n",
      "==============================================================================\n",
      "Omnibus:                        0.039   Durbin-Watson:                   1.954\n",
      "Prob(Omnibus):                  0.980   Jarque-Bera (JB):                0.270\n",
      "Skew:                           0.022   Prob(JB):                        0.874\n",
      "Kurtosis:                       2.267   Cond. No.                     6.95e+03\n",
      "==============================================================================\n",
      "\n",
      "Notes:\n",
      "[1] Standard Errors assume that the covariance matrix of the errors is correctly specified.\n",
      "[2] The condition number is large, 6.95e+03. This might indicate that there are\n",
      "strong multicollinearity or other numerical problems.\n",
      "                            OLS Regression Results                            \n",
      "==============================================================================\n",
      "Dep. Variable:        Numerical Index   R-squared:                       0.744\n",
      "Model:                            OLS   Adj. R-squared:                  0.648\n",
      "Method:                 Least Squares   F-statistic:                     7.738\n",
      "Date:                Wed, 01 May 2024   Prob (F-statistic):            0.00946\n",
      "Time:                        20:40:17   Log-Likelihood:                -16.470\n",
      "No. Observations:                  12   AIC:                             40.94\n",
      "Df Residuals:                       8   BIC:                             42.88\n",
      "Df Model:                           3                                         \n",
      "Covariance Type:            nonrobust                                         \n",
      "========================================================================================================\n",
      "                                           coef    std err          t      P>|t|      [0.025      0.975]\n",
      "--------------------------------------------------------------------------------------------------------\n",
      "const                                   78.2536      9.359      8.361      0.000      56.672      99.836\n",
      "Predicted endogenous variable (IR)      -2.6602      0.722     -3.686      0.006      -4.324      -0.996\n",
      "Political Continuity/Stability Score    -0.3655      0.169     -2.163      0.063      -0.755       0.024\n",
      "Public Debt (%GDP)                       0.0396      0.042      0.940      0.375      -0.058       0.137\n",
      "==============================================================================\n",
      "Omnibus:                        1.095   Durbin-Watson:                   1.228\n",
      "Prob(Omnibus):                  0.578   Jarque-Bera (JB):                0.707\n",
      "Skew:                           0.549   Prob(JB):                        0.702\n",
      "Kurtosis:                       2.546   Cond. No.                     6.59e+03\n",
      "==============================================================================\n",
      "\n",
      "Notes:\n",
      "[1] Standard Errors assume that the covariance matrix of the errors is correctly specified.\n",
      "[2] The condition number is large, 6.59e+03. This might indicate that there are\n",
      "strong multicollinearity or other numerical problems.\n"
     ]
    },
    {
     "name": "stderr",
     "output_type": "stream",
     "text": [
      "c:\\Users\\eland\\miniconda3\\envs\\X\\lib\\site-packages\\scipy\\stats\\_stats_py.py:1736: UserWarning: kurtosistest only valid for n>=20 ... continuing anyway, n=12\n",
      "  warnings.warn(\"kurtosistest only valid for n>=20 ... continuing \"\n",
      "c:\\Users\\eland\\miniconda3\\envs\\X\\lib\\site-packages\\scipy\\stats\\_stats_py.py:1736: UserWarning: kurtosistest only valid for n>=20 ... continuing anyway, n=12\n",
      "  warnings.warn(\"kurtosistest only valid for n>=20 ... continuing \"\n"
     ]
    }
   ],
   "source": [
    "# 2nd stage\n",
    "# data manipulation \n",
    "DITdf6 = DITdf5.copy()\n",
    "DITdf6 = DITdf6.dropna()\n",
    "DITdf6 = DITdf6.reset_index(drop=True)\n",
    "\n",
    "DITdf7 = DITdf5.copy()\n",
    "DITdf7 = DITdf7.drop(index=range(0, 40))\n",
    "DITdf7 = DITdf7.reset_index(drop=True)\n",
    "\n",
    "# we now employ the predicted values from the 1st stage as regressors in the second-stage regression for each model specification\n",
    "Y21 = DITdf5[\"Numerical Index\"]\n",
    "X21 = DITdf5[[\"Predicted endogenous variable (IR)\", \"JPN-G7 Inflation Gap\", \"Years of Default/Restructuring\", \"Years since last Default/Restructuring\", \"Political Continuity/Stability Score\", \"Public Debt (%GDP)\"]]\n",
    "X21 = sm.add_constant(X21)\n",
    "Y22 = DITdf6[\"Numerical Index\"]\n",
    "X22 = DITdf6[[\"Predicted endogenous variable (IR)\", \"JPN-G7 Inflation Gap\", \"Years of Default/Restructuring\", \"Years since last Default/Restructuring\", \"Political Continuity/Stability Score\", \"Detrended Public Debt (%GDP)\"]]\n",
    "X22 = sm.add_constant(X22)\n",
    "Y23 = DITdf7[\"Numerical Index\"]\n",
    "X23 = DITdf7[[\"Predicted endogenous variable (IR)\", \"JPN-G7 Inflation Gap\", \"Years since last Default/Restructuring\", \"Political Continuity/Stability Score\", \"Public Debt (%GDP)\"]]\n",
    "X23 = sm.add_constant(X23)\n",
    "Y24 = DITdf7[\"Numerical Index\"]\n",
    "X24 = DITdf7[[\"Predicted endogenous variable (IR)\", \"Political Continuity/Stability Score\", \"Public Debt (%GDP)\"]]\n",
    "X24 = sm.add_constant(X24)\n",
    "\n",
    "second_stage_model1 = sm.OLS(Y21, X21).fit()\n",
    "second_stage_model2 = sm.OLS(Y22, X22).fit()\n",
    "second_stage_model3 = sm.OLS(Y23, X23).fit()\n",
    "second_stage_model4 = sm.OLS(Y24, X24).fit()\n",
    "\n",
    "print(second_stage_model1.summary())\n",
    "print(second_stage_model2.summary())\n",
    "print(second_stage_model3.summary())\n",
    "print(second_stage_model4.summary())"
   ]
  },
  {
   "cell_type": "code",
   "execution_count": 93,
   "metadata": {},
   "outputs": [
    {
     "name": "stdout",
     "output_type": "stream",
     "text": [
      "Wu-Hausman test of exogeneity\n",
      "H0: All endogenous variables are exogenous\n",
      "Statistic: 1.0061\n",
      "P-value: 0.3213\n",
      "Distributed: F(1,44) Wu-Hausman test of exogeneity\n",
      "H0: All endogenous variables are exogenous\n",
      "Statistic: 0.9934\n",
      "P-value: 0.3244\n",
      "Distributed: F(1,44) Wu-Hausman test of exogeneity\n",
      "H0: All endogenous variables are exogenous\n",
      "Statistic: 35.2713\n",
      "P-value: 0.0019\n",
      "Distributed: F(1,5) Wu-Hausman test of exogeneity\n",
      "H0: All endogenous variables are exogenous\n",
      "Statistic: 58.2808\n",
      "P-value: 0.0001\n",
      "Distributed: F(1,7)\n"
     ]
    }
   ],
   "source": [
    "# Testing the validity of the instrument\n",
    " \n",
    "# First-Stage F-Statistic\n",
    "# The First stage F-statistic of 67.61 with a p-value of 7.55e-11 indicates that our instrumental variable, Yen U.S. Dollar Spot Exchange Rate, is jointly significant in explaining the endogenous variable. \n",
    "# This suggests that the instrumental variable is likely valid and relevant for addressing endogeneity in our regression model, regardless its specification. \n",
    "\n",
    "# Wu-Hausman test\n",
    "# we manually reset the 2SLS IV regression according to the package scheme \n",
    "exogenousIV1 = DITdf5[[\"JPN-G7 Inflation Gap\", \"Years of Default/Restructuring\", \"Years since last Default/Restructuring\", \"Political Continuity/Stability Score\", \"Public Debt (%GDP)\"]]\n",
    "exogenousIV1 = sm.add_constant(exogenousIV1)\n",
    "exogenousIV2 = DITdf6[[\"JPN-G7 Inflation Gap\", \"Years of Default/Restructuring\", \"Years since last Default/Restructuring\", \"Political Continuity/Stability Score\", \"Detrended Public Debt (%GDP)\"]]\n",
    "exogenousIV2 = sm.add_constant(exogenousIV2)\n",
    "exogenousIV3 = DITdf7[[\"JPN-G7 Inflation Gap\", \"Years since last Default/Restructuring\", \"Political Continuity/Stability Score\", \"Public Debt (%GDP)\"]]\n",
    "exogenousIV3 = sm.add_constant(exogenousIV3)\n",
    "exogenousIV4 = DITdf7[[\"Political Continuity/Stability Score\", \"Public Debt (%GDP)\"]]\n",
    "exogenousIV4 = sm.add_constant(exogenousIV4)\n",
    "\n",
    "# Fit the IV2SLS model\n",
    "iv_model1 = IV2SLS(dependent=DITdf5[\"Numerical Index\"], exog=exogenousIV1, endog=DITdf5[\"Inflation Rate\"], instruments=DITdf5[\"Yen-USD Spot Exchange\"])\n",
    "iv_results1 = iv_model1.fit()\n",
    "iv_model2 = IV2SLS(dependent=DITdf6[\"Numerical Index\"], exog=exogenousIV2, endog=DITdf6[\"Inflation Rate\"], instruments=DITdf6[\"Yen-USD Spot Exchange\"])\n",
    "iv_results2 = iv_model2.fit()\n",
    "iv_model3 = IV2SLS(dependent=DITdf7[\"Numerical Index\"], exog=exogenousIV3, endog=DITdf7[\"Inflation Rate\"], instruments=DITdf7[\"Yen-USD Spot Exchange\"])\n",
    "iv_results3 = iv_model3.fit()\n",
    "iv_model4 = IV2SLS(dependent=DITdf7[\"Numerical Index\"], exog=exogenousIV4, endog=DITdf7[\"Inflation Rate\"], instruments=DITdf7[\"Yen-USD Spot Exchange\"])\n",
    "iv_results4 = iv_model4.fit()\n",
    "\n",
    "# Calculate the Wu-Hausman statistic and its p-value manually\n",
    "wu_hausman_test1 = iv_results1.wu_hausman()\n",
    "wu_hausman_test2 = iv_results2.wu_hausman()\n",
    "wu_hausman_test3 = iv_results3.wu_hausman()\n",
    "wu_hausman_test4 = iv_results4.wu_hausman()\n",
    "\n",
    "print(wu_hausman_test1, wu_hausman_test2, wu_hausman_test3, wu_hausman_test4)\n",
    "\n",
    "# As predictable, for the first two models, the test statistics are 1.0061 and 0.9934, with corresponding p-values of 0.3213 and 0.3244, respectively. These p-values are greater than the conventional significance level of 0.05, suggesting no significant evidence to reject the null hypothesis that all endogenous variables are exogenous for these models. \n",
    "# However, for the third and fourth models, the test statistics are substantially larger (35.2713 and 58.2808, respectively), with much smaller p-values of 0.0019 and 0.0001. These results indicate significant evidence to reject the null hypothesis, implying that all endogenous variables may not be exogenous in these models.  \n",
    "# Causes of this assumption breach will be broadly deepen in the paper. "
   ]
  }
 ],
 "metadata": {
  "kernelspec": {
   "display_name": "X",
   "language": "python",
   "name": "python3"
  },
  "language_info": {
   "codemirror_mode": {
    "name": "ipython",
    "version": 3
   },
   "file_extension": ".py",
   "mimetype": "text/x-python",
   "name": "python",
   "nbconvert_exporter": "python",
   "pygments_lexer": "ipython3",
   "version": "3.8.0"
  }
 },
 "nbformat": 4,
 "nbformat_minor": 2
}
